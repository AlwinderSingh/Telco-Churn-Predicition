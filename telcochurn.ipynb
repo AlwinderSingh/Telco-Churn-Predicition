{
 "cells": [
  {
   "cell_type": "markdown",
   "id": "aa25d41f",
   "metadata": {
    "papermill": {
     "duration": 0.072663,
     "end_time": "2022-03-16T11:03:42.272232",
     "exception": false,
     "start_time": "2022-03-16T11:03:42.199569",
     "status": "completed"
    },
    "tags": []
   },
   "source": [
    "# Data Science Lab Evaluation\n",
    "#### Alwinder Singh\n",
    "#### 101917042\n",
    "#### CSE2\n",
    "### Problem Statement: [Telco Churn Prediction](https://www.kaggle.com/blastchar/telco-customer-churn)\n",
    "### Table of Contents:\n",
    "|Sno|Step  |\n",
    "|--|--|\n",
    "| 1 | **Importing Libraries** |\n",
    "| 2 | **Data Preprocessing and Exploratory Data Analysis** |\n",
    "|  | 2.1: Importing Dataset |\n",
    "|  | 2.2: Handling Missing Values |\n",
    "|  | 2.3: Statistical Analysis |\n",
    "|  | 2.4: Binning/Discretization |\n",
    "|  | 2.5: Outlier Treatment |\n",
    "|  | 2.6: Exploratory Data Analysis |\n",
    "|  | 2.7: Splitting Dependent/Independent Variables |\n",
    "|  | 2.8: Importing Dataset |\n",
    "|  | 2.9: Label Encoding |\n",
    "|  | 2.10: One Hot Encoding |\n",
    "|  | 2.11: Class Balancing |\n",
    "|  | 2.12: Normalization |\n",
    "|  | 2.13: Train Test Split |\n",
    "| 3|  **Classification Using Deep Learning ( Artificial Neural Networks)**|\n",
    "|  | 3.1: Initializing the ANN |\n",
    "|  | 3.2: Adding the Input Layer and the Hidden Layers |\n",
    "|  | 3.3: Adding the Output Layer |\n",
    "|  | 3.4: Compiling the ANN |\n",
    "|  | 3.5: Training the ANN |\n",
    "|  | 3.6: Predicting the Reults |\n",
    "|  | 3.7: Evaluating model Performance |\n",
    "| 4|  **Machine Learning Models**|\n",
    "|  | 4.1: Gaussian Naive Bayes |\n",
    "|  | 4.2: K Nearest Neigbors |\n",
    "|  | 4.3: Logistic Regression |\n",
    "|  | 4.4: Decision Tree Classifier |\n",
    "|  | 4.5: Random Forest Classifier |\n",
    "|  | 4.6: Ada Boosting Classifier |\n",
    "|  | 4.7: Gradient Boosting Classifier |\n",
    "|  | 4.8: XGB Classifier |"
   ]
  },
  {
   "cell_type": "markdown",
   "id": "723140e2",
   "metadata": {
    "id": "8sNDnxE2-pwE",
    "papermill": {
     "duration": 0.06519,
     "end_time": "2022-03-16T11:03:42.408611",
     "exception": false,
     "start_time": "2022-03-16T11:03:42.343421",
     "status": "completed"
    },
    "tags": []
   },
   "source": [
    "## Part 1 - Importing the libraries"
   ]
  },
  {
   "cell_type": "code",
   "execution_count": 1,
   "id": "84d97c0b",
   "metadata": {
    "execution": {
     "iopub.execute_input": "2022-03-16T11:03:42.552639Z",
     "iopub.status.busy": "2022-03-16T11:03:42.551921Z",
     "iopub.status.idle": "2022-03-16T11:03:46.940460Z",
     "shell.execute_reply": "2022-03-16T11:03:46.939724Z",
     "shell.execute_reply.started": "2022-03-16T10:04:00.653879Z"
    },
    "id": "lxChR1Rk-umf",
    "papermill": {
     "duration": 4.466152,
     "end_time": "2022-03-16T11:03:46.940625",
     "exception": false,
     "start_time": "2022-03-16T11:03:42.474473",
     "status": "completed"
    },
    "tags": []
   },
   "outputs": [],
   "source": [
    "#Basic Libraries\n",
    "import numpy as np\n",
    "import pandas as pd\n",
    "import tensorflow as tf\n"
   ]
  },
  {
   "cell_type": "code",
   "execution_count": 2,
   "id": "02df4c5c",
   "metadata": {
    "execution": {
     "iopub.execute_input": "2022-03-16T11:03:47.078075Z",
     "iopub.status.busy": "2022-03-16T11:03:47.077248Z",
     "iopub.status.idle": "2022-03-16T11:03:47.708532Z",
     "shell.execute_reply": "2022-03-16T11:03:47.709182Z",
     "shell.execute_reply.started": "2022-03-16T10:04:02.074516Z"
    },
    "papermill": {
     "duration": 0.700857,
     "end_time": "2022-03-16T11:03:47.709398",
     "exception": false,
     "start_time": "2022-03-16T11:03:47.008541",
     "status": "completed"
    },
    "tags": []
   },
   "outputs": [],
   "source": [
    "#Libraries for Graphing and Plotting\n",
    "from matplotlib import pyplot as plt\n",
    "import seaborn as sns\n",
    "import missingno as msn"
   ]
  },
  {
   "cell_type": "code",
   "execution_count": 3,
   "id": "d2b5c617",
   "metadata": {
    "execution": {
     "iopub.execute_input": "2022-03-16T11:03:47.939026Z",
     "iopub.status.busy": "2022-03-16T11:03:47.938227Z",
     "iopub.status.idle": "2022-03-16T11:03:51.344502Z",
     "shell.execute_reply": "2022-03-16T11:03:51.343471Z",
     "shell.execute_reply.started": "2022-03-16T10:04:02.452712Z"
    },
    "papermill": {
     "duration": 3.521019,
     "end_time": "2022-03-16T11:03:51.344633",
     "exception": false,
     "start_time": "2022-03-16T11:03:47.823614",
     "status": "completed"
    },
    "tags": []
   },
   "outputs": [],
   "source": [
    "#ML/DL Libraries\n",
    "from sklearn.metrics import classification_report,confusion_matrix\n",
    "from sklearn.preprocessing import LabelEncoder\n",
    "from sklearn.compose import ColumnTransformer\n",
    "from sklearn.preprocessing import OneHotEncoder\n",
    "from imblearn.combine import SMOTEENN\n",
    "from sklearn.preprocessing import MinMaxScaler\n",
    "from sklearn.model_selection import train_test_split\n",
    "from cuml.naive_bayes import  GaussianNB\n",
    "from cuml.neighbors import KNeighborsClassifier\n",
    "from cuml.svm import SVC\n",
    "from cuml.linear_model import LogisticRegression\n",
    "from sklearn.tree import DecisionTreeClassifier\n",
    "from cuml.ensemble import RandomForestClassifier\n",
    "from sklearn.ensemble import AdaBoostClassifier\n",
    "from sklearn.ensemble import GradientBoostingClassifier\n",
    "from xgboost import XGBClassifier"
   ]
  },
  {
   "cell_type": "markdown",
   "id": "98f44d7d",
   "metadata": {
    "id": "AG3FQEch-yuA",
    "papermill": {
     "duration": 0.06615,
     "end_time": "2022-03-16T11:03:51.476263",
     "exception": false,
     "start_time": "2022-03-16T11:03:51.410113",
     "status": "completed"
    },
    "tags": []
   },
   "source": [
    "## Part 2 - Exploratory Data Analysis and Data Preprocessing"
   ]
  },
  {
   "cell_type": "markdown",
   "id": "a60796f6",
   "metadata": {
    "id": "-4zq8Mza_D9O",
    "papermill": {
     "duration": 0.066631,
     "end_time": "2022-03-16T11:03:51.609704",
     "exception": false,
     "start_time": "2022-03-16T11:03:51.543073",
     "status": "completed"
    },
    "tags": []
   },
   "source": [
    "### Importing the dataset in required format"
   ]
  },
  {
   "cell_type": "code",
   "execution_count": 4,
   "id": "0e6e3926",
   "metadata": {
    "execution": {
     "iopub.execute_input": "2022-03-16T11:03:51.747523Z",
     "iopub.status.busy": "2022-03-16T11:03:51.747016Z",
     "iopub.status.idle": "2022-03-16T11:03:51.791614Z",
     "shell.execute_reply": "2022-03-16T11:03:51.791179Z",
     "shell.execute_reply.started": "2022-03-16T10:04:03.655549Z"
    },
    "id": "B9CV13Co_HHM",
    "papermill": {
     "duration": 0.114938,
     "end_time": "2022-03-16T11:03:51.791746",
     "exception": false,
     "start_time": "2022-03-16T11:03:51.676808",
     "status": "completed"
    },
    "tags": []
   },
   "outputs": [],
   "source": [
    "dataset = pd.read_csv('../input/telco-customer-churn/WA_Fn-UseC_-Telco-Customer-Churn.csv',na_values=\" \")\n",
    "# As observed, NA values were depicted as \" \" in the dataset"
   ]
  },
  {
   "cell_type": "markdown",
   "id": "57574316",
   "metadata": {
    "papermill": {
     "duration": 0.06465,
     "end_time": "2022-03-16T11:03:51.921562",
     "exception": false,
     "start_time": "2022-03-16T11:03:51.856912",
     "status": "completed"
    },
    "tags": []
   },
   "source": [
    "### Checking and Handling Missing Values"
   ]
  },
  {
   "cell_type": "code",
   "execution_count": 5,
   "id": "41584229",
   "metadata": {
    "execution": {
     "iopub.execute_input": "2022-03-16T11:03:52.055883Z",
     "iopub.status.busy": "2022-03-16T11:03:52.055085Z",
     "iopub.status.idle": "2022-03-16T11:03:52.075913Z",
     "shell.execute_reply": "2022-03-16T11:03:52.076345Z",
     "shell.execute_reply.started": "2022-03-16T10:04:03.68799Z"
    },
    "papermill": {
     "duration": 0.090159,
     "end_time": "2022-03-16T11:03:52.076482",
     "exception": false,
     "start_time": "2022-03-16T11:03:51.986323",
     "status": "completed"
    },
    "tags": []
   },
   "outputs": [
    {
     "data": {
      "text/plain": [
       "customerID           0\n",
       "gender               0\n",
       "SeniorCitizen        0\n",
       "Partner              0\n",
       "Dependents           0\n",
       "tenure               0\n",
       "PhoneService         0\n",
       "MultipleLines        0\n",
       "InternetService      0\n",
       "OnlineSecurity       0\n",
       "OnlineBackup         0\n",
       "DeviceProtection     0\n",
       "TechSupport          0\n",
       "StreamingTV          0\n",
       "StreamingMovies      0\n",
       "Contract             0\n",
       "PaperlessBilling     0\n",
       "PaymentMethod        0\n",
       "MonthlyCharges       0\n",
       "TotalCharges        11\n",
       "Churn                0\n",
       "dtype: int64"
      ]
     },
     "execution_count": 5,
     "metadata": {},
     "output_type": "execute_result"
    }
   ],
   "source": [
    "dataset.isnull().sum()\n",
    "#Calculating the counts of Non Null Values in each column"
   ]
  },
  {
   "cell_type": "code",
   "execution_count": 6,
   "id": "bbaa8a5e",
   "metadata": {
    "execution": {
     "iopub.execute_input": "2022-03-16T11:03:52.219932Z",
     "iopub.status.busy": "2022-03-16T11:03:52.219130Z",
     "iopub.status.idle": "2022-03-16T11:03:52.221572Z",
     "shell.execute_reply": "2022-03-16T11:03:52.221136Z",
     "shell.execute_reply.started": "2022-03-16T10:04:03.71322Z"
    },
    "papermill": {
     "duration": 0.078205,
     "end_time": "2022-03-16T11:03:52.221699",
     "exception": false,
     "start_time": "2022-03-16T11:03:52.143494",
     "status": "completed"
    },
    "tags": []
   },
   "outputs": [],
   "source": [
    "#Replacing the NA values with mean of column\n",
    "dataset[\"TotalCharges\"].fillna(dataset[\"TotalCharges\"].mean(),inplace=True)"
   ]
  },
  {
   "cell_type": "code",
   "execution_count": 7,
   "id": "6995aba2",
   "metadata": {
    "execution": {
     "iopub.execute_input": "2022-03-16T11:03:52.368363Z",
     "iopub.status.busy": "2022-03-16T11:03:52.367553Z",
     "iopub.status.idle": "2022-03-16T11:03:53.784394Z",
     "shell.execute_reply": "2022-03-16T11:03:53.784806Z",
     "shell.execute_reply.started": "2022-03-16T10:04:03.719324Z"
    },
    "papermill": {
     "duration": 1.49772,
     "end_time": "2022-03-16T11:03:53.784969",
     "exception": false,
     "start_time": "2022-03-16T11:03:52.287249",
     "status": "completed"
    },
    "tags": []
   },
   "outputs": [
    {
     "data": {
      "text/plain": [
       "<AxesSubplot:>"
      ]
     },
     "execution_count": 7,
     "metadata": {},
     "output_type": "execute_result"
    },
    {
     "data": {
      "image/png": "[encoded data removed]",
      "text/plain": [
       "<Figure size 1728x720 with 3 Axes>"
      ]
     },
     "metadata": {
      "needs_background": "light"
     },
     "output_type": "display_data"
    }
   ],
   "source": [
    "#Checking if the Missing values have been filled\n",
    "msn.bar(dataset)"
   ]
  },
  {
   "cell_type": "markdown",
   "id": "61915925",
   "metadata": {
    "papermill": {
     "duration": 0.067887,
     "end_time": "2022-03-16T11:03:53.920871",
     "exception": false,
     "start_time": "2022-03-16T11:03:53.852984",
     "status": "completed"
    },
    "tags": []
   },
   "source": [
    "### Statistical Analysis of dataset (Numerical Columns Only)"
   ]
  },
  {
   "cell_type": "code",
   "execution_count": 8,
   "id": "66c32c9c",
   "metadata": {
    "execution": {
     "iopub.execute_input": "2022-03-16T11:03:54.062336Z",
     "iopub.status.busy": "2022-03-16T11:03:54.061709Z",
     "iopub.status.idle": "2022-03-16T11:03:54.081294Z",
     "shell.execute_reply": "2022-03-16T11:03:54.081746Z",
     "shell.execute_reply.started": "2022-03-16T10:04:05.367462Z"
    },
    "papermill": {
     "duration": 0.093328,
     "end_time": "2022-03-16T11:03:54.081917",
     "exception": false,
     "start_time": "2022-03-16T11:03:53.988589",
     "status": "completed"
    },
    "tags": []
   },
   "outputs": [
    {
     "data": {
      "text/html": [
       "<div>\n",
       "<style scoped>\n",
       "    .dataframe tbody tr th:only-of-type {\n",
       "        vertical-align: middle;\n",
       "    }\n",
       "\n",
       "    .dataframe tbody tr th {\n",
       "        vertical-align: top;\n",
       "    }\n",
       "\n",
       "    .dataframe thead th {\n",
       "        text-align: right;\n",
       "    }\n",
       "</style>\n",
       "<table border=\"1\" class=\"dataframe\">\n",
       "  <thead>\n",
       "    <tr style=\"text-align: right;\">\n",
       "      <th></th>\n",
       "      <th>SeniorCitizen</th>\n",
       "      <th>tenure</th>\n",
       "      <th>MonthlyCharges</th>\n",
       "      <th>TotalCharges</th>\n",
       "    </tr>\n",
       "  </thead>\n",
       "  <tbody>\n",
       "    <tr>\n",
       "      <th>count</th>\n",
       "      <td>7043.000000</td>\n",
       "      <td>7043.000000</td>\n",
       "      <td>7043.000000</td>\n",
       "      <td>7043.000000</td>\n",
       "    </tr>\n",
       "    <tr>\n",
       "      <th>mean</th>\n",
       "      <td>0.162147</td>\n",
       "      <td>32.371149</td>\n",
       "      <td>64.761692</td>\n",
       "      <td>2283.300441</td>\n",
       "    </tr>\n",
       "    <tr>\n",
       "      <th>std</th>\n",
       "      <td>0.368612</td>\n",
       "      <td>24.559481</td>\n",
       "      <td>30.090047</td>\n",
       "      <td>2265.000258</td>\n",
       "    </tr>\n",
       "    <tr>\n",
       "      <th>min</th>\n",
       "      <td>0.000000</td>\n",
       "      <td>0.000000</td>\n",
       "      <td>18.250000</td>\n",
       "      <td>18.800000</td>\n",
       "    </tr>\n",
       "    <tr>\n",
       "      <th>25%</th>\n",
       "      <td>0.000000</td>\n",
       "      <td>9.000000</td>\n",
       "      <td>35.500000</td>\n",
       "      <td>402.225000</td>\n",
       "    </tr>\n",
       "    <tr>\n",
       "      <th>50%</th>\n",
       "      <td>0.000000</td>\n",
       "      <td>29.000000</td>\n",
       "      <td>70.350000</td>\n",
       "      <td>1400.550000</td>\n",
       "    </tr>\n",
       "    <tr>\n",
       "      <th>75%</th>\n",
       "      <td>0.000000</td>\n",
       "      <td>55.000000</td>\n",
       "      <td>89.850000</td>\n",
       "      <td>3786.600000</td>\n",
       "    </tr>\n",
       "    <tr>\n",
       "      <th>max</th>\n",
       "      <td>1.000000</td>\n",
       "      <td>72.000000</td>\n",
       "      <td>118.750000</td>\n",
       "      <td>8684.800000</td>\n",
       "    </tr>\n",
       "  </tbody>\n",
       "</table>\n",
       "</div>"
      ],
      "text/plain": [
       "       SeniorCitizen       tenure  MonthlyCharges  TotalCharges\n",
       "count    7043.000000  7043.000000     7043.000000   7043.000000\n",
       "mean        0.162147    32.371149       64.761692   2283.300441\n",
       "std         0.368612    24.559481       30.090047   2265.000258\n",
       "min         0.000000     0.000000       18.250000     18.800000\n",
       "25%         0.000000     9.000000       35.500000    402.225000\n",
       "50%         0.000000    29.000000       70.350000   1400.550000\n",
       "75%         0.000000    55.000000       89.850000   3786.600000\n",
       "max         1.000000    72.000000      118.750000   8684.800000"
      ]
     },
     "execution_count": 8,
     "metadata": {},
     "output_type": "execute_result"
    }
   ],
   "source": [
    "# Statistical Variables of Dataset\n",
    "dataset.describe()"
   ]
  },
  {
   "cell_type": "code",
   "execution_count": 9,
   "id": "c3f67b71",
   "metadata": {
    "execution": {
     "iopub.execute_input": "2022-03-16T11:03:54.225084Z",
     "iopub.status.busy": "2022-03-16T11:03:54.223104Z",
     "iopub.status.idle": "2022-03-16T11:03:54.450557Z",
     "shell.execute_reply": "2022-03-16T11:03:54.450997Z",
     "shell.execute_reply.started": "2022-03-16T10:04:05.393459Z"
    },
    "papermill": {
     "duration": 0.301367,
     "end_time": "2022-03-16T11:03:54.451150",
     "exception": false,
     "start_time": "2022-03-16T11:03:54.149783",
     "status": "completed"
    },
    "tags": []
   },
   "outputs": [
    {
     "data": {
      "text/plain": [
       "<AxesSubplot:>"
      ]
     },
     "execution_count": 9,
     "metadata": {},
     "output_type": "execute_result"
    },
    {
     "data": {
      "image/png": "[encoded data removed]",
      "text/plain": [
       "<Figure size 576x432 with 2 Axes>"
      ]
     },
     "metadata": {
      "needs_background": "light"
     },
     "output_type": "display_data"
    }
   ],
   "source": [
    "#Correlational Analysis\n",
    "plt.rcParams['figure.figsize'] = [8, 6]\n",
    "sns.heatmap(dataset[dataset.columns[[5,-2,-3]]].corr())"
   ]
  },
  {
   "cell_type": "markdown",
   "id": "4d1eea5e",
   "metadata": {
    "papermill": {
     "duration": 0.06898,
     "end_time": "2022-03-16T11:03:54.590651",
     "exception": false,
     "start_time": "2022-03-16T11:03:54.521671",
     "status": "completed"
    },
    "tags": []
   },
   "source": [
    "### Binning/Discretization"
   ]
  },
  {
   "cell_type": "code",
   "execution_count": 10,
   "id": "2e7c68ca",
   "metadata": {
    "execution": {
     "iopub.execute_input": "2022-03-16T11:03:54.736258Z",
     "iopub.status.busy": "2022-03-16T11:03:54.735445Z",
     "iopub.status.idle": "2022-03-16T11:03:54.740429Z",
     "shell.execute_reply": "2022-03-16T11:03:54.739991Z",
     "shell.execute_reply.started": "2022-03-16T10:04:05.683348Z"
    },
    "papermill": {
     "duration": 0.080106,
     "end_time": "2022-03-16T11:03:54.740538",
     "exception": false,
     "start_time": "2022-03-16T11:03:54.660432",
     "status": "completed"
    },
    "tags": []
   },
   "outputs": [],
   "source": [
    "#Converting to Bins of size 10\n",
    "labels = [\"{0} - {1}\".format(i, i + 11) for i in range(1, 72, 12)]\n",
    "col1=list(dataset.columns)\n",
    "dataset['tenure_group'] = pd.cut(dataset.tenure, range(1, 80, 12), right=False, labels=labels)\n"
   ]
  },
  {
   "cell_type": "code",
   "execution_count": 11,
   "id": "7db1d722",
   "metadata": {
    "execution": {
     "iopub.execute_input": "2022-03-16T11:03:54.888386Z",
     "iopub.status.busy": "2022-03-16T11:03:54.887067Z",
     "iopub.status.idle": "2022-03-16T11:03:54.890595Z",
     "shell.execute_reply": "2022-03-16T11:03:54.891059Z",
     "shell.execute_reply.started": "2022-03-16T10:04:06.154574Z"
    },
    "papermill": {
     "duration": 0.08131,
     "end_time": "2022-03-16T11:03:54.891201",
     "exception": false,
     "start_time": "2022-03-16T11:03:54.809891",
     "status": "completed"
    },
    "tags": []
   },
   "outputs": [],
   "source": [
    "#Addition of tenure group column in the dataset\n",
    "zx=col1.index(\"tenure\")\n",
    "dataset.drop(columns= ['tenure'], axis=1, inplace=True)\n",
    "col1.pop(zx)\n",
    "col1.insert(zx,\"tenure_group\")"
   ]
  },
  {
   "cell_type": "code",
   "execution_count": 12,
   "id": "338977c0",
   "metadata": {
    "execution": {
     "iopub.execute_input": "2022-03-16T11:03:55.032806Z",
     "iopub.status.busy": "2022-03-16T11:03:55.032004Z",
     "iopub.status.idle": "2022-03-16T11:03:55.038050Z",
     "shell.execute_reply": "2022-03-16T11:03:55.037619Z",
     "shell.execute_reply.started": "2022-03-16T10:04:06.169325Z"
    },
    "papermill": {
     "duration": 0.077956,
     "end_time": "2022-03-16T11:03:55.038175",
     "exception": false,
     "start_time": "2022-03-16T11:03:54.960219",
     "status": "completed"
    },
    "tags": []
   },
   "outputs": [],
   "source": [
    "#Rearranging Columns accordingly\n",
    "dataset=dataset.loc[:,col1]"
   ]
  },
  {
   "cell_type": "markdown",
   "id": "c24a1073",
   "metadata": {
    "papermill": {
     "duration": 0.069113,
     "end_time": "2022-03-16T11:03:55.176795",
     "exception": false,
     "start_time": "2022-03-16T11:03:55.107682",
     "status": "completed"
    },
    "tags": []
   },
   "source": [
    "### Outlier Detection"
   ]
  },
  {
   "cell_type": "code",
   "execution_count": 13,
   "id": "b03fc207",
   "metadata": {
    "execution": {
     "iopub.execute_input": "2022-03-16T11:03:55.352344Z",
     "iopub.status.busy": "2022-03-16T11:03:55.340973Z",
     "iopub.status.idle": "2022-03-16T11:03:55.569102Z",
     "shell.execute_reply": "2022-03-16T11:03:55.569533Z",
     "shell.execute_reply.started": "2022-03-16T10:04:06.181361Z"
    },
    "papermill": {
     "duration": 0.324005,
     "end_time": "2022-03-16T11:03:55.569680",
     "exception": false,
     "start_time": "2022-03-16T11:03:55.245675",
     "status": "completed"
    },
    "tags": []
   },
   "outputs": [
    {
     "data": {
      "image/png": "[encoded data removed]",
      "text/plain": [
       "<Figure size 1152x1008 with 2 Axes>"
      ]
     },
     "metadata": {
      "needs_background": "light"
     },
     "output_type": "display_data"
    }
   ],
   "source": [
    "plt.rcParams['figure.figsize'] = [16, 14]\n",
    "\n",
    "fig, ax = plt.subplots(1,2)\n",
    "x=0\n",
    "y=0\n",
    "colors=[\"lightgray\",\"lightblue\"]\n",
    "for i,j in enumerate(dataset.columns[[-2,-3]]):\n",
    "    \n",
    "    sns.boxplot(ax=ax[i],data=dataset[j],color=colors[i])\n",
    "    \n"
   ]
  },
  {
   "cell_type": "markdown",
   "id": "527e6a30",
   "metadata": {
    "papermill": {
     "duration": 0.071044,
     "end_time": "2022-03-16T11:03:55.710824",
     "exception": false,
     "start_time": "2022-03-16T11:03:55.639780",
     "status": "completed"
    },
    "tags": []
   },
   "source": [
    "## Exploratory Data Analysis"
   ]
  },
  {
   "cell_type": "code",
   "execution_count": 14,
   "id": "7b6fdaf7",
   "metadata": {
    "execution": {
     "iopub.execute_input": "2022-03-16T11:03:55.877235Z",
     "iopub.status.busy": "2022-03-16T11:03:55.876381Z",
     "iopub.status.idle": "2022-03-16T11:03:58.432023Z",
     "shell.execute_reply": "2022-03-16T11:03:58.432434Z",
     "shell.execute_reply.started": "2022-03-16T10:04:06.539706Z"
    },
    "papermill": {
     "duration": 2.651357,
     "end_time": "2022-03-16T11:03:58.432579",
     "exception": false,
     "start_time": "2022-03-16T11:03:55.781222",
     "status": "completed"
    },
    "tags": []
   },
   "outputs": [
    {
     "data": {
      "image/png": "[encoded data removed]",
      "text/plain": [
       "<Figure size 2304x1728 with 20 Axes>"
      ]
     },
     "metadata": {
      "needs_background": "light"
     },
     "output_type": "display_data"
    }
   ],
   "source": [
    "plt.rcParams['figure.figsize'] = [32, 24]\n",
    "cols=list(range(len(dataset.columns)))\n",
    "for i in [18,19,0]:    \n",
    "    cols.remove(i)\n",
    "fig, ax = plt.subplots(4,5)\n",
    "x=0\n",
    "y=0\n",
    "for i,j in enumerate(dataset.columns[cols]):\n",
    "    x=i%5\n",
    "    y=i//5\n",
    "    sns.countplot(ax=ax[y,x],x=j,data=dataset)\n"
   ]
  },
  {
   "cell_type": "code",
   "execution_count": 15,
   "id": "64b72834",
   "metadata": {
    "execution": {
     "iopub.execute_input": "2022-03-16T11:03:58.599540Z",
     "iopub.status.busy": "2022-03-16T11:03:58.585206Z",
     "iopub.status.idle": "2022-03-16T11:03:58.898555Z",
     "shell.execute_reply": "2022-03-16T11:03:58.899060Z",
     "shell.execute_reply.started": "2022-03-16T10:04:05.69309Z"
    },
    "papermill": {
     "duration": 0.393555,
     "end_time": "2022-03-16T11:03:58.899236",
     "exception": false,
     "start_time": "2022-03-16T11:03:58.505681",
     "status": "completed"
    },
    "tags": []
   },
   "outputs": [
    {
     "data": {
      "text/plain": [
       "<seaborn.axisgrid.FacetGrid at 0x7fabc08b9ed0>"
      ]
     },
     "execution_count": 15,
     "metadata": {},
     "output_type": "execute_result"
    },
    {
     "data": {
      "image/png": "[encoded data removed]",
      "text/plain": [
       "<Figure size 360x360 with 1 Axes>"
      ]
     },
     "metadata": {
      "needs_background": "light"
     },
     "output_type": "display_data"
    }
   ],
   "source": [
    "#Checking Dependency of Total Charges on Monthly Charges\n",
    "sns.lmplot(data=dataset, x='MonthlyCharges', y='TotalCharges', fit_reg=False)\n"
   ]
  },
  {
   "cell_type": "code",
   "execution_count": 16,
   "id": "32602ef6",
   "metadata": {
    "execution": {
     "iopub.execute_input": "2022-03-16T11:03:59.061500Z",
     "iopub.status.busy": "2022-03-16T11:03:59.060627Z",
     "iopub.status.idle": "2022-03-16T11:04:01.131514Z",
     "shell.execute_reply": "2022-03-16T11:04:01.131939Z",
     "shell.execute_reply.started": "2022-03-16T10:04:08.951758Z"
    },
    "papermill": {
     "duration": 2.158385,
     "end_time": "2022-03-16T11:04:01.132085",
     "exception": false,
     "start_time": "2022-03-16T11:03:58.973700",
     "status": "completed"
    },
    "tags": []
   },
   "outputs": [
    {
     "data": {
      "text/plain": [
       "<seaborn.axisgrid.PairGrid at 0x7fac3213c7d0>"
      ]
     },
     "execution_count": 16,
     "metadata": {},
     "output_type": "execute_result"
    },
    {
     "data": {
      "image/png": "[encoded data removed]",
      "text/plain": [
       "<Figure size 412x360 with 6 Axes>"
      ]
     },
     "metadata": {
      "needs_background": "light"
     },
     "output_type": "display_data"
    }
   ],
   "source": [
    "sns.pairplot(dataset[dataset.columns[[-2,-3,5,-1]]], hue = 'Churn',palette='Set2')\n"
   ]
  },
  {
   "cell_type": "markdown",
   "id": "58293a25",
   "metadata": {
    "papermill": {
     "duration": 0.077054,
     "end_time": "2022-03-16T11:04:01.288067",
     "exception": false,
     "start_time": "2022-03-16T11:04:01.211013",
     "status": "completed"
    },
    "tags": []
   },
   "source": [
    "### Splitting Data into Dependent and Independent Variables"
   ]
  },
  {
   "cell_type": "code",
   "execution_count": 17,
   "id": "02a1bee6",
   "metadata": {
    "execution": {
     "iopub.execute_input": "2022-03-16T11:04:01.449299Z",
     "iopub.status.busy": "2022-03-16T11:04:01.448425Z",
     "iopub.status.idle": "2022-03-16T11:04:01.453641Z",
     "shell.execute_reply": "2022-03-16T11:04:01.453218Z",
     "shell.execute_reply.started": "2022-03-16T10:04:11.025977Z"
    },
    "papermill": {
     "duration": 0.088962,
     "end_time": "2022-03-16T11:04:01.453756",
     "exception": false,
     "start_time": "2022-03-16T11:04:01.364794",
     "status": "completed"
    },
    "tags": []
   },
   "outputs": [],
   "source": [
    "X = dataset.iloc[:, 1:-1].values\n",
    "y = dataset.iloc[:, -1].values\n",
    "x=[0,2,3]\n",
    "x.extend(list(range(4,17)))\n",
    "Y=[4,7,14,16]\n",
    "for i in Y:\n",
    "    x.remove(i)"
   ]
  },
  {
   "cell_type": "markdown",
   "id": "58ae6fdc",
   "metadata": {
    "papermill": {
     "duration": 0.076562,
     "end_time": "2022-03-16T11:04:01.607971",
     "exception": false,
     "start_time": "2022-03-16T11:04:01.531409",
     "status": "completed"
    },
    "tags": []
   },
   "source": [
    "### Label Encoding of Ordinal Variables"
   ]
  },
  {
   "cell_type": "code",
   "execution_count": 18,
   "id": "ce33a62c",
   "metadata": {
    "execution": {
     "iopub.execute_input": "2022-03-16T11:04:01.790495Z",
     "iopub.status.busy": "2022-03-16T11:04:01.785459Z",
     "iopub.status.idle": "2022-03-16T11:04:01.793367Z",
     "shell.execute_reply": "2022-03-16T11:04:01.792635Z",
     "shell.execute_reply.started": "2022-03-16T10:04:11.037877Z"
    },
    "papermill": {
     "duration": 0.108438,
     "end_time": "2022-03-16T11:04:01.793499",
     "exception": false,
     "start_time": "2022-03-16T11:04:01.685061",
     "status": "completed"
    },
    "tags": []
   },
   "outputs": [],
   "source": [
    "le=LabelEncoder()\n",
    "y=le.fit_transform(y).reshape(-1,1)\n",
    "for i in x:\n",
    "    X[:,i]=le.fit_transform(X[:,i])\n",
    "    "
   ]
  },
  {
   "cell_type": "markdown",
   "id": "8a1dca0d",
   "metadata": {
    "papermill": {
     "duration": 0.077317,
     "end_time": "2022-03-16T11:04:01.947683",
     "exception": false,
     "start_time": "2022-03-16T11:04:01.870366",
     "status": "completed"
    },
    "tags": []
   },
   "source": [
    "### OneHot Encoding of Nominal Variables"
   ]
  },
  {
   "cell_type": "code",
   "execution_count": 19,
   "id": "f06fb506",
   "metadata": {
    "execution": {
     "iopub.execute_input": "2022-03-16T11:04:02.110199Z",
     "iopub.status.busy": "2022-03-16T11:04:02.109409Z",
     "iopub.status.idle": "2022-03-16T11:04:02.128969Z",
     "shell.execute_reply": "2022-03-16T11:04:02.128494Z",
     "shell.execute_reply.started": "2022-03-16T10:04:11.071763Z"
    },
    "papermill": {
     "duration": 0.103646,
     "end_time": "2022-03-16T11:04:02.129092",
     "exception": false,
     "start_time": "2022-03-16T11:04:02.025446",
     "status": "completed"
    },
    "tags": []
   },
   "outputs": [],
   "source": [
    "ct =ColumnTransformer(transformers=[('encoder',OneHotEncoder(),Y)],remainder=\"passthrough\")\n",
    "X = np.array(ct.fit_transform(X))"
   ]
  },
  {
   "cell_type": "markdown",
   "id": "f0410232",
   "metadata": {
    "papermill": {
     "duration": 0.077708,
     "end_time": "2022-03-16T11:04:02.283447",
     "exception": false,
     "start_time": "2022-03-16T11:04:02.205739",
     "status": "completed"
    },
    "tags": []
   },
   "source": [
    "#### Converting numerical columns to float"
   ]
  },
  {
   "cell_type": "code",
   "execution_count": 20,
   "id": "17037071",
   "metadata": {
    "execution": {
     "iopub.execute_input": "2022-03-16T11:04:02.457807Z",
     "iopub.status.busy": "2022-03-16T11:04:02.456968Z",
     "iopub.status.idle": "2022-03-16T11:04:02.459007Z",
     "shell.execute_reply": "2022-03-16T11:04:02.459414Z",
     "shell.execute_reply.started": "2022-03-16T10:04:11.097391Z"
    },
    "papermill": {
     "duration": 0.098879,
     "end_time": "2022-03-16T11:04:02.459557",
     "exception": false,
     "start_time": "2022-03-16T11:04:02.360678",
     "status": "completed"
    },
    "tags": []
   },
   "outputs": [],
   "source": [
    "X=X.astype(\"float32\")"
   ]
  },
  {
   "cell_type": "markdown",
   "id": "d0303774",
   "metadata": {
    "papermill": {
     "duration": 0.076614,
     "end_time": "2022-03-16T11:04:02.614143",
     "exception": false,
     "start_time": "2022-03-16T11:04:02.537529",
     "status": "completed"
    },
    "tags": []
   },
   "source": [
    "### Handling Class Imbalance"
   ]
  },
  {
   "cell_type": "code",
   "execution_count": 21,
   "id": "4e927002",
   "metadata": {
    "execution": {
     "iopub.execute_input": "2022-03-16T11:04:02.788182Z",
     "iopub.status.busy": "2022-03-16T11:04:02.787346Z",
     "iopub.status.idle": "2022-03-16T11:04:02.890270Z",
     "shell.execute_reply": "2022-03-16T11:04:02.891395Z",
     "shell.execute_reply.started": "2022-03-16T10:04:11.119283Z"
    },
    "papermill": {
     "duration": 0.200189,
     "end_time": "2022-03-16T11:04:02.891630",
     "exception": false,
     "start_time": "2022-03-16T11:04:02.691441",
     "status": "completed"
    },
    "tags": []
   },
   "outputs": [
    {
     "data": {
      "text/plain": [
       "<matplotlib.patches.Circle at 0x7fac30708210>"
      ]
     },
     "execution_count": 21,
     "metadata": {},
     "output_type": "execute_result"
    },
    {
     "data": {
      "image/png": "[encoded data removed]",
      "text/plain": [
       "<Figure size 1080x576 with 1 Axes>"
      ]
     },
     "metadata": {},
     "output_type": "display_data"
    }
   ],
   "source": [
    "plt.figure(figsize=(15,8))\n",
    "plt.subplot(1,2,1)\n",
    "dataset['Churn'].value_counts().plot.pie(autopct='%1.1f%%')\n",
    "centre=plt.Circle((0,0),0.7,fc='white')\n",
    "fig=plt.gcf()\n",
    "fig.gca().add_artist(centre)"
   ]
  },
  {
   "cell_type": "code",
   "execution_count": 22,
   "id": "02fbd5ce",
   "metadata": {
    "execution": {
     "iopub.execute_input": "2022-03-16T11:04:03.093968Z",
     "iopub.status.busy": "2022-03-16T11:04:03.093139Z",
     "iopub.status.idle": "2022-03-16T11:04:05.583943Z",
     "shell.execute_reply": "2022-03-16T11:04:05.583454Z",
     "shell.execute_reply.started": "2022-03-16T10:04:11.226565Z"
    },
    "papermill": {
     "duration": 2.573606,
     "end_time": "2022-03-16T11:04:05.584085",
     "exception": false,
     "start_time": "2022-03-16T11:04:03.010479",
     "status": "completed"
    },
    "tags": []
   },
   "outputs": [],
   "source": [
    "#Imbalance being removed using SMOTEENN\n",
    "over=SMOTEENN()\n",
    "X,y=over.fit_resample(X,y)\n"
   ]
  },
  {
   "cell_type": "code",
   "execution_count": 23,
   "id": "da389e6a",
   "metadata": {
    "execution": {
     "iopub.execute_input": "2022-03-16T11:04:05.759910Z",
     "iopub.status.busy": "2022-03-16T11:04:05.758888Z",
     "iopub.status.idle": "2022-03-16T11:04:05.850184Z",
     "shell.execute_reply": "2022-03-16T11:04:05.850606Z",
     "shell.execute_reply.started": "2022-03-16T10:04:13.670539Z"
    },
    "papermill": {
     "duration": 0.187697,
     "end_time": "2022-03-16T11:04:05.850746",
     "exception": false,
     "start_time": "2022-03-16T11:04:05.663049",
     "status": "completed"
    },
    "tags": []
   },
   "outputs": [
    {
     "data": {
      "text/plain": [
       "<matplotlib.patches.Circle at 0x7fabc0419710>"
      ]
     },
     "execution_count": 23,
     "metadata": {},
     "output_type": "execute_result"
    },
    {
     "data": {
      "image/png": "[encoded data removed]",
      "text/plain": [
       "<Figure size 1080x576 with 1 Axes>"
      ]
     },
     "metadata": {},
     "output_type": "display_data"
    }
   ],
   "source": [
    "#Rechecking the class balancing\n",
    "plt.figure(figsize=(15,8))\n",
    "plt.subplot(1,2,1)\n",
    "pd.Series(y).value_counts().plot.pie(autopct='%1.1f%%')\n",
    "centre=plt.Circle((0,0),0.7,fc='white')\n",
    "fig=plt.gcf()\n",
    "fig.gca().add_artist(centre)"
   ]
  },
  {
   "cell_type": "markdown",
   "id": "1bd31a8b",
   "metadata": {
    "papermill": {
     "duration": 0.079398,
     "end_time": "2022-03-16T11:04:06.051091",
     "exception": false,
     "start_time": "2022-03-16T11:04:05.971693",
     "status": "completed"
    },
    "tags": []
   },
   "source": [
    "### Normalization of Data"
   ]
  },
  {
   "cell_type": "code",
   "execution_count": 24,
   "id": "61495d4e",
   "metadata": {
    "execution": {
     "iopub.execute_input": "2022-03-16T11:04:06.213598Z",
     "iopub.status.busy": "2022-03-16T11:04:06.212541Z",
     "iopub.status.idle": "2022-03-16T11:04:06.216914Z",
     "shell.execute_reply": "2022-03-16T11:04:06.216493Z",
     "shell.execute_reply.started": "2022-03-16T10:04:13.779826Z"
    },
    "papermill": {
     "duration": 0.087029,
     "end_time": "2022-03-16T11:04:06.217031",
     "exception": false,
     "start_time": "2022-03-16T11:04:06.130002",
     "status": "completed"
    },
    "tags": []
   },
   "outputs": [],
   "source": [
    "sc=MinMaxScaler()\n",
    "X=sc.fit_transform(X)"
   ]
  },
  {
   "cell_type": "markdown",
   "id": "73543486",
   "metadata": {
    "id": "VC6omXel_Up0",
    "papermill": {
     "duration": 0.081488,
     "end_time": "2022-03-16T11:04:06.377423",
     "exception": false,
     "start_time": "2022-03-16T11:04:06.295935",
     "status": "completed"
    },
    "tags": []
   },
   "source": [
    "### Splitting the dataset into the Training set and Test set"
   ]
  },
  {
   "cell_type": "code",
   "execution_count": 25,
   "id": "94519455",
   "metadata": {
    "execution": {
     "iopub.execute_input": "2022-03-16T11:04:06.541223Z",
     "iopub.status.busy": "2022-03-16T11:04:06.540524Z",
     "iopub.status.idle": "2022-03-16T11:04:06.543914Z",
     "shell.execute_reply": "2022-03-16T11:04:06.543445Z",
     "shell.execute_reply.started": "2022-03-16T10:04:13.795605Z"
    },
    "id": "L5edeb2r_agx",
    "papermill": {
     "duration": 0.087677,
     "end_time": "2022-03-16T11:04:06.544038",
     "exception": false,
     "start_time": "2022-03-16T11:04:06.456361",
     "status": "completed"
    },
    "tags": []
   },
   "outputs": [],
   "source": [
    "X_train, X_test, y_train, y_test = train_test_split(X, y, test_size = 0.3, random_state = 0)"
   ]
  },
  {
   "cell_type": "markdown",
   "id": "fd590f83",
   "metadata": {
    "id": "_mSLlAT9_eyI",
    "papermill": {
     "duration": 0.07925,
     "end_time": "2022-03-16T11:04:06.702547",
     "exception": false,
     "start_time": "2022-03-16T11:04:06.623297",
     "status": "completed"
    },
    "tags": []
   },
   "source": [
    "## Part 3 - Classification Using Deep Learning ( Artificial Neural Networks )"
   ]
  },
  {
   "cell_type": "markdown",
   "id": "61068cd5",
   "metadata": {
    "id": "CsBULd_f_wLY",
    "papermill": {
     "duration": 0.109929,
     "end_time": "2022-03-16T11:04:06.891500",
     "exception": false,
     "start_time": "2022-03-16T11:04:06.781571",
     "status": "completed"
    },
    "tags": []
   },
   "source": [
    "### Initializing the ANN"
   ]
  },
  {
   "cell_type": "code",
   "execution_count": 26,
   "id": "97b9bcda",
   "metadata": {
    "execution": {
     "iopub.execute_input": "2022-03-16T11:04:07.163235Z",
     "iopub.status.busy": "2022-03-16T11:04:07.162436Z",
     "iopub.status.idle": "2022-03-16T11:04:13.493572Z",
     "shell.execute_reply": "2022-03-16T11:04:13.493088Z",
     "shell.execute_reply.started": "2022-03-16T10:04:13.810896Z"
    },
    "id": "J6Hd97Ls__Nz",
    "papermill": {
     "duration": 6.466319,
     "end_time": "2022-03-16T11:04:13.493725",
     "exception": false,
     "start_time": "2022-03-16T11:04:07.027406",
     "status": "completed"
    },
    "tags": []
   },
   "outputs": [
    {
     "name": "stderr",
     "output_type": "stream",
     "text": [
      "2022-03-16 11:04:08.066313: I tensorflow/stream_executor/cuda/cuda_gpu_executor.cc:937] successful NUMA node read from SysFS had negative value (-1), but there must be at least one NUMA node, so returning NUMA node zero\n",
      "2022-03-16 11:04:08.071523: I tensorflow/stream_executor/cuda/cuda_gpu_executor.cc:937] successful NUMA node read from SysFS had negative value (-1), but there must be at least one NUMA node, so returning NUMA node zero\n",
      "2022-03-16 11:04:08.072227: I tensorflow/stream_executor/cuda/cuda_gpu_executor.cc:937] successful NUMA node read from SysFS had negative value (-1), but there must be at least one NUMA node, so returning NUMA node zero\n",
      "2022-03-16 11:04:08.073257: I tensorflow/core/platform/cpu_feature_guard.cc:142] This TensorFlow binary is optimized with oneAPI Deep Neural Network Library (oneDNN) to use the following CPU instructions in performance-critical operations:  AVX2 AVX512F FMA\n",
      "To enable them in other operations, rebuild TensorFlow with the appropriate compiler flags.\n",
      "2022-03-16 11:04:08.074403: I tensorflow/stream_executor/cuda/cuda_gpu_executor.cc:937] successful NUMA node read from SysFS had negative value (-1), but there must be at least one NUMA node, so returning NUMA node zero\n",
      "2022-03-16 11:04:08.075076: I tensorflow/stream_executor/cuda/cuda_gpu_executor.cc:937] successful NUMA node read from SysFS had negative value (-1), but there must be at least one NUMA node, so returning NUMA node zero\n",
      "2022-03-16 11:04:08.075669: I tensorflow/stream_executor/cuda/cuda_gpu_executor.cc:937] successful NUMA node read from SysFS had negative value (-1), but there must be at least one NUMA node, so returning NUMA node zero\n",
      "2022-03-16 11:04:13.151951: I tensorflow/stream_executor/cuda/cuda_gpu_executor.cc:937] successful NUMA node read from SysFS had negative value (-1), but there must be at least one NUMA node, so returning NUMA node zero\n",
      "2022-03-16 11:04:13.152918: I tensorflow/stream_executor/cuda/cuda_gpu_executor.cc:937] successful NUMA node read from SysFS had negative value (-1), but there must be at least one NUMA node, so returning NUMA node zero\n",
      "2022-03-16 11:04:13.153666: I tensorflow/stream_executor/cuda/cuda_gpu_executor.cc:937] successful NUMA node read from SysFS had negative value (-1), but there must be at least one NUMA node, so returning NUMA node zero\n",
      "2022-03-16 11:04:13.154305: I tensorflow/core/common_runtime/gpu/gpu_device.cc:1510] Created device /job:localhost/replica:0/task:0/device:GPU:0 with 15013 MB memory:  -> device: 0, name: Tesla P100-PCIE-16GB, pci bus id: 0000:00:04.0, compute capability: 6.0\n"
     ]
    }
   ],
   "source": [
    "ann = tf.keras.models.Sequential()"
   ]
  },
  {
   "cell_type": "markdown",
   "id": "38c0a996",
   "metadata": {
    "id": "iitAFJS_ABUn",
    "papermill": {
     "duration": 0.081631,
     "end_time": "2022-03-16T11:04:13.658991",
     "exception": false,
     "start_time": "2022-03-16T11:04:13.577360",
     "status": "completed"
    },
    "tags": []
   },
   "source": [
    "### Adding the input layer and the hidden layers"
   ]
  },
  {
   "cell_type": "code",
   "execution_count": 27,
   "id": "1c769b1d",
   "metadata": {
    "execution": {
     "iopub.execute_input": "2022-03-16T11:04:13.841377Z",
     "iopub.status.busy": "2022-03-16T11:04:13.840710Z",
     "iopub.status.idle": "2022-03-16T11:04:13.878290Z",
     "shell.execute_reply": "2022-03-16T11:04:13.877466Z",
     "shell.execute_reply.started": "2022-03-16T10:04:16.386188Z"
    },
    "id": "ksO_Vv40AHix",
    "papermill": {
     "duration": 0.137086,
     "end_time": "2022-03-16T11:04:13.878423",
     "exception": false,
     "start_time": "2022-03-16T11:04:13.741337",
     "status": "completed"
    },
    "tags": []
   },
   "outputs": [],
   "source": [
    "ann.add(tf.keras.layers.Dense(units=32,input_dim=len(X[1]), activation='relu',kernel_regularizer=tf.keras.regularizers.l2(0.001)))\n",
    "ann.add(tf.keras.layers.Dense(units=16, activation='relu'))\n"
   ]
  },
  {
   "cell_type": "code",
   "execution_count": 28,
   "id": "551c6b9a",
   "metadata": {
    "execution": {
     "iopub.execute_input": "2022-03-16T11:04:14.045034Z",
     "iopub.status.busy": "2022-03-16T11:04:14.044427Z",
     "iopub.status.idle": "2022-03-16T11:04:14.057597Z",
     "shell.execute_reply": "2022-03-16T11:04:14.057165Z",
     "shell.execute_reply.started": "2022-03-16T10:04:16.418455Z"
    },
    "id": "c2357OqEAQOQ",
    "papermill": {
     "duration": 0.098687,
     "end_time": "2022-03-16T11:04:14.057710",
     "exception": false,
     "start_time": "2022-03-16T11:04:13.959023",
     "status": "completed"
    },
    "tags": []
   },
   "outputs": [],
   "source": [
    "ann.add(tf.keras.layers.Dense(units=4, activation='relu'))\n",
    "ann.add(tf.keras.layers.Dropout(0.1))\n"
   ]
  },
  {
   "cell_type": "markdown",
   "id": "58590814",
   "metadata": {
    "id": "jwMOmKb3AdBY",
    "papermill": {
     "duration": 0.079973,
     "end_time": "2022-03-16T11:04:14.217276",
     "exception": false,
     "start_time": "2022-03-16T11:04:14.137303",
     "status": "completed"
    },
    "tags": []
   },
   "source": [
    "### Adding the output layer"
   ]
  },
  {
   "cell_type": "code",
   "execution_count": 29,
   "id": "e9945c13",
   "metadata": {
    "execution": {
     "iopub.execute_input": "2022-03-16T11:04:14.382839Z",
     "iopub.status.busy": "2022-03-16T11:04:14.382078Z",
     "iopub.status.idle": "2022-03-16T11:04:14.392674Z",
     "shell.execute_reply": "2022-03-16T11:04:14.392103Z",
     "shell.execute_reply.started": "2022-03-16T10:04:16.436472Z"
    },
    "id": "YFATpzsUAkLL",
    "papermill": {
     "duration": 0.095442,
     "end_time": "2022-03-16T11:04:14.392804",
     "exception": false,
     "start_time": "2022-03-16T11:04:14.297362",
     "status": "completed"
    },
    "tags": []
   },
   "outputs": [],
   "source": [
    "ann.add(tf.keras.layers.Dense(units=1,activation='sigmoid'))"
   ]
  },
  {
   "cell_type": "markdown",
   "id": "03b5e9db",
   "metadata": {
    "id": "qDeylAs2An25",
    "papermill": {
     "duration": 0.079707,
     "end_time": "2022-03-16T11:04:14.552613",
     "exception": false,
     "start_time": "2022-03-16T11:04:14.472906",
     "status": "completed"
    },
    "tags": []
   },
   "source": [
    "### Compiling the ANN"
   ]
  },
  {
   "cell_type": "code",
   "execution_count": 30,
   "id": "5bfa44b7",
   "metadata": {
    "execution": {
     "iopub.execute_input": "2022-03-16T11:04:14.719972Z",
     "iopub.status.busy": "2022-03-16T11:04:14.719196Z",
     "iopub.status.idle": "2022-03-16T11:04:14.728050Z",
     "shell.execute_reply": "2022-03-16T11:04:14.728425Z",
     "shell.execute_reply.started": "2022-03-16T10:04:16.451064Z"
    },
    "id": "pesgbWlCAtB4",
    "papermill": {
     "duration": 0.095455,
     "end_time": "2022-03-16T11:04:14.728560",
     "exception": false,
     "start_time": "2022-03-16T11:04:14.633105",
     "status": "completed"
    },
    "tags": []
   },
   "outputs": [],
   "source": [
    "ann.compile(loss='binary_crossentropy', optimizer='adam', metrics=['accuracy'])"
   ]
  },
  {
   "cell_type": "markdown",
   "id": "2b3f630a",
   "metadata": {
    "id": "YjVuiybYOo7r",
    "papermill": {
     "duration": 0.080029,
     "end_time": "2022-03-16T11:04:14.888483",
     "exception": false,
     "start_time": "2022-03-16T11:04:14.808454",
     "status": "completed"
    },
    "tags": []
   },
   "source": [
    "### Training the ANN model on the Training set"
   ]
  },
  {
   "cell_type": "code",
   "execution_count": 31,
   "id": "1e756b04",
   "metadata": {
    "execution": {
     "iopub.execute_input": "2022-03-16T11:04:15.054937Z",
     "iopub.status.busy": "2022-03-16T11:04:15.054144Z",
     "iopub.status.idle": "2022-03-16T11:04:56.585012Z",
     "shell.execute_reply": "2022-03-16T11:04:56.584425Z",
     "shell.execute_reply.started": "2022-03-16T10:04:16.464772Z"
    },
    "id": "c_vV-tiiA5zn",
    "outputId": "4a2b6ee6-ed75-4698-9069-b250e613803f",
    "papermill": {
     "duration": 41.61592,
     "end_time": "2022-03-16T11:04:56.585150",
     "exception": false,
     "start_time": "2022-03-16T11:04:14.969230",
     "status": "completed"
    },
    "tags": []
   },
   "outputs": [
    {
     "name": "stderr",
     "output_type": "stream",
     "text": [
      "2022-03-16 11:04:15.115402: I tensorflow/compiler/mlir/mlir_graph_optimization_pass.cc:185] None of the MLIR Optimization Passes are enabled (registered 2)\n"
     ]
    },
    {
     "name": "stdout",
     "output_type": "stream",
     "text": [
      "Epoch 1/100\n",
      "130/130 [==============================] - 2s 3ms/step - loss: 0.4979 - accuracy: 0.8364\n",
      "Epoch 2/100\n",
      "130/130 [==============================] - 0s 3ms/step - loss: 0.3462 - accuracy: 0.8838\n",
      "Epoch 3/100\n",
      "130/130 [==============================] - 0s 3ms/step - loss: 0.3171 - accuracy: 0.8833\n",
      "Epoch 4/100\n",
      "130/130 [==============================] - 0s 3ms/step - loss: 0.2952 - accuracy: 0.8947\n",
      "Epoch 5/100\n",
      "130/130 [==============================] - 0s 4ms/step - loss: 0.2953 - accuracy: 0.8896\n",
      "Epoch 6/100\n",
      "130/130 [==============================] - 0s 3ms/step - loss: 0.2881 - accuracy: 0.8959\n",
      "Epoch 7/100\n",
      "130/130 [==============================] - 0s 3ms/step - loss: 0.2752 - accuracy: 0.8940\n",
      "Epoch 8/100\n",
      "130/130 [==============================] - 0s 3ms/step - loss: 0.2742 - accuracy: 0.9034\n",
      "Epoch 9/100\n",
      "130/130 [==============================] - 0s 3ms/step - loss: 0.2655 - accuracy: 0.9054\n",
      "Epoch 10/100\n",
      "130/130 [==============================] - 0s 3ms/step - loss: 0.2646 - accuracy: 0.9066\n",
      "Epoch 11/100\n",
      "130/130 [==============================] - 0s 3ms/step - loss: 0.2657 - accuracy: 0.9063\n",
      "Epoch 12/100\n",
      "130/130 [==============================] - 1s 4ms/step - loss: 0.2561 - accuracy: 0.9092\n",
      "Epoch 13/100\n",
      "130/130 [==============================] - 1s 4ms/step - loss: 0.2563 - accuracy: 0.9097\n",
      "Epoch 14/100\n",
      "130/130 [==============================] - 0s 3ms/step - loss: 0.2508 - accuracy: 0.9136\n",
      "Epoch 15/100\n",
      "130/130 [==============================] - 0s 3ms/step - loss: 0.2516 - accuracy: 0.9121\n",
      "Epoch 16/100\n",
      "130/130 [==============================] - 0s 3ms/step - loss: 0.2531 - accuracy: 0.9134\n",
      "Epoch 17/100\n",
      "130/130 [==============================] - 0s 3ms/step - loss: 0.2481 - accuracy: 0.9143\n",
      "Epoch 18/100\n",
      "130/130 [==============================] - 0s 3ms/step - loss: 0.2453 - accuracy: 0.9153\n",
      "Epoch 19/100\n",
      "130/130 [==============================] - 0s 3ms/step - loss: 0.2378 - accuracy: 0.9180\n",
      "Epoch 20/100\n",
      "130/130 [==============================] - 0s 3ms/step - loss: 0.2367 - accuracy: 0.9213\n",
      "Epoch 21/100\n",
      "130/130 [==============================] - 0s 3ms/step - loss: 0.2273 - accuracy: 0.9201\n",
      "Epoch 22/100\n",
      "130/130 [==============================] - 0s 3ms/step - loss: 0.2311 - accuracy: 0.9201\n",
      "Epoch 23/100\n",
      "130/130 [==============================] - 0s 2ms/step - loss: 0.2292 - accuracy: 0.9201\n",
      "Epoch 24/100\n",
      "130/130 [==============================] - 0s 2ms/step - loss: 0.2278 - accuracy: 0.9242\n",
      "Epoch 25/100\n",
      "130/130 [==============================] - 0s 2ms/step - loss: 0.2261 - accuracy: 0.9209\n",
      "Epoch 26/100\n",
      "130/130 [==============================] - 0s 2ms/step - loss: 0.2208 - accuracy: 0.9238\n",
      "Epoch 27/100\n",
      "130/130 [==============================] - 0s 2ms/step - loss: 0.2162 - accuracy: 0.9250\n",
      "Epoch 28/100\n",
      "130/130 [==============================] - 0s 2ms/step - loss: 0.2108 - accuracy: 0.9318\n",
      "Epoch 29/100\n",
      "130/130 [==============================] - 0s 2ms/step - loss: 0.2102 - accuracy: 0.9293\n",
      "Epoch 30/100\n",
      "130/130 [==============================] - 0s 2ms/step - loss: 0.2142 - accuracy: 0.9272\n",
      "Epoch 31/100\n",
      "130/130 [==============================] - 0s 3ms/step - loss: 0.2137 - accuracy: 0.9325\n",
      "Epoch 32/100\n",
      "130/130 [==============================] - 0s 2ms/step - loss: 0.2069 - accuracy: 0.9325\n",
      "Epoch 33/100\n",
      "130/130 [==============================] - 0s 2ms/step - loss: 0.2046 - accuracy: 0.9330\n",
      "Epoch 34/100\n",
      "130/130 [==============================] - 0s 3ms/step - loss: 0.2006 - accuracy: 0.9322\n",
      "Epoch 35/100\n",
      "130/130 [==============================] - 0s 4ms/step - loss: 0.1989 - accuracy: 0.9334\n",
      "Epoch 36/100\n",
      "130/130 [==============================] - 0s 3ms/step - loss: 0.1954 - accuracy: 0.9393\n",
      "Epoch 37/100\n",
      "130/130 [==============================] - 0s 2ms/step - loss: 0.1927 - accuracy: 0.9380\n",
      "Epoch 38/100\n",
      "130/130 [==============================] - 0s 3ms/step - loss: 0.1896 - accuracy: 0.9417\n",
      "Epoch 39/100\n",
      "130/130 [==============================] - 0s 2ms/step - loss: 0.1934 - accuracy: 0.9426\n",
      "Epoch 40/100\n",
      "130/130 [==============================] - 0s 2ms/step - loss: 0.1874 - accuracy: 0.9395\n",
      "Epoch 41/100\n",
      "130/130 [==============================] - 0s 3ms/step - loss: 0.1889 - accuracy: 0.9409\n",
      "Epoch 42/100\n",
      "130/130 [==============================] - 0s 2ms/step - loss: 0.1750 - accuracy: 0.9489\n",
      "Epoch 43/100\n",
      "130/130 [==============================] - 0s 2ms/step - loss: 0.1765 - accuracy: 0.9439\n",
      "Epoch 44/100\n",
      "130/130 [==============================] - 0s 2ms/step - loss: 0.1827 - accuracy: 0.9422\n",
      "Epoch 45/100\n",
      "130/130 [==============================] - 0s 2ms/step - loss: 0.1768 - accuracy: 0.9463\n",
      "Epoch 46/100\n",
      "130/130 [==============================] - 0s 3ms/step - loss: 0.1772 - accuracy: 0.9463\n",
      "Epoch 47/100\n",
      "130/130 [==============================] - 0s 3ms/step - loss: 0.1728 - accuracy: 0.9487\n",
      "Epoch 48/100\n",
      "130/130 [==============================] - 0s 3ms/step - loss: 0.1700 - accuracy: 0.9465\n",
      "Epoch 49/100\n",
      "130/130 [==============================] - 0s 2ms/step - loss: 0.1788 - accuracy: 0.9448\n",
      "Epoch 50/100\n",
      "130/130 [==============================] - 0s 2ms/step - loss: 0.1676 - accuracy: 0.9475\n",
      "Epoch 51/100\n",
      "130/130 [==============================] - 0s 2ms/step - loss: 0.1619 - accuracy: 0.9540\n",
      "Epoch 52/100\n",
      "130/130 [==============================] - 0s 2ms/step - loss: 0.1652 - accuracy: 0.9492\n",
      "Epoch 53/100\n",
      "130/130 [==============================] - 0s 2ms/step - loss: 0.1644 - accuracy: 0.9501\n",
      "Epoch 54/100\n",
      "130/130 [==============================] - 0s 2ms/step - loss: 0.1612 - accuracy: 0.9526\n",
      "Epoch 55/100\n",
      "130/130 [==============================] - 0s 2ms/step - loss: 0.1622 - accuracy: 0.9528\n",
      "Epoch 56/100\n",
      "130/130 [==============================] - 0s 3ms/step - loss: 0.1581 - accuracy: 0.9499\n",
      "Epoch 57/100\n",
      "130/130 [==============================] - 0s 2ms/step - loss: 0.1539 - accuracy: 0.9550\n",
      "Epoch 58/100\n",
      "130/130 [==============================] - 0s 2ms/step - loss: 0.1564 - accuracy: 0.9567\n",
      "Epoch 59/100\n",
      "130/130 [==============================] - 0s 2ms/step - loss: 0.1590 - accuracy: 0.9526\n",
      "Epoch 60/100\n",
      "130/130 [==============================] - 0s 2ms/step - loss: 0.1567 - accuracy: 0.9526\n",
      "Epoch 61/100\n",
      "130/130 [==============================] - 0s 3ms/step - loss: 0.1529 - accuracy: 0.9567\n",
      "Epoch 62/100\n",
      "130/130 [==============================] - 0s 2ms/step - loss: 0.1498 - accuracy: 0.9545\n",
      "Epoch 63/100\n",
      "130/130 [==============================] - 0s 2ms/step - loss: 0.1449 - accuracy: 0.9572\n",
      "Epoch 64/100\n",
      "130/130 [==============================] - 0s 3ms/step - loss: 0.1496 - accuracy: 0.9547\n",
      "Epoch 65/100\n",
      "130/130 [==============================] - 0s 2ms/step - loss: 0.1462 - accuracy: 0.9569\n",
      "Epoch 66/100\n",
      "130/130 [==============================] - 0s 2ms/step - loss: 0.1459 - accuracy: 0.9543\n",
      "Epoch 67/100\n",
      "130/130 [==============================] - 0s 3ms/step - loss: 0.1355 - accuracy: 0.9615\n",
      "Epoch 68/100\n",
      "130/130 [==============================] - 0s 3ms/step - loss: 0.1432 - accuracy: 0.9584\n",
      "Epoch 69/100\n",
      "130/130 [==============================] - 0s 3ms/step - loss: 0.1439 - accuracy: 0.9598\n",
      "Epoch 70/100\n",
      "130/130 [==============================] - 0s 3ms/step - loss: 0.1418 - accuracy: 0.9606\n",
      "Epoch 71/100\n",
      "130/130 [==============================] - 0s 3ms/step - loss: 0.1397 - accuracy: 0.9593\n",
      "Epoch 72/100\n",
      "130/130 [==============================] - 0s 3ms/step - loss: 0.1353 - accuracy: 0.9598\n",
      "Epoch 73/100\n",
      "130/130 [==============================] - 0s 2ms/step - loss: 0.1316 - accuracy: 0.9637\n",
      "Epoch 74/100\n",
      "130/130 [==============================] - 0s 3ms/step - loss: 0.1283 - accuracy: 0.9620\n",
      "Epoch 75/100\n",
      "130/130 [==============================] - 0s 3ms/step - loss: 0.1364 - accuracy: 0.9608\n",
      "Epoch 76/100\n",
      "130/130 [==============================] - 0s 3ms/step - loss: 0.1320 - accuracy: 0.9610\n",
      "Epoch 77/100\n",
      "130/130 [==============================] - 0s 2ms/step - loss: 0.1289 - accuracy: 0.9652\n",
      "Epoch 78/100\n",
      "130/130 [==============================] - 0s 3ms/step - loss: 0.1380 - accuracy: 0.9591\n",
      "Epoch 79/100\n",
      "130/130 [==============================] - 0s 3ms/step - loss: 0.1272 - accuracy: 0.9661\n",
      "Epoch 80/100\n",
      "130/130 [==============================] - 0s 3ms/step - loss: 0.1306 - accuracy: 0.9596\n",
      "Epoch 81/100\n",
      "130/130 [==============================] - 0s 2ms/step - loss: 0.1295 - accuracy: 0.9606\n",
      "Epoch 82/100\n",
      "130/130 [==============================] - 0s 3ms/step - loss: 0.1238 - accuracy: 0.9652\n",
      "Epoch 83/100\n",
      "130/130 [==============================] - 0s 4ms/step - loss: 0.1253 - accuracy: 0.9642\n",
      "Epoch 84/100\n",
      "130/130 [==============================] - 0s 3ms/step - loss: 0.1272 - accuracy: 0.9618\n",
      "Epoch 85/100\n",
      "130/130 [==============================] - 0s 3ms/step - loss: 0.1307 - accuracy: 0.9596\n",
      "Epoch 86/100\n",
      "130/130 [==============================] - 0s 2ms/step - loss: 0.1222 - accuracy: 0.9644\n",
      "Epoch 87/100\n",
      "130/130 [==============================] - 0s 2ms/step - loss: 0.1171 - accuracy: 0.9681\n",
      "Epoch 88/100\n",
      "130/130 [==============================] - 0s 2ms/step - loss: 0.1151 - accuracy: 0.9693\n",
      "Epoch 89/100\n",
      "130/130 [==============================] - 0s 2ms/step - loss: 0.1186 - accuracy: 0.9661\n",
      "Epoch 90/100\n",
      "130/130 [==============================] - 0s 3ms/step - loss: 0.1203 - accuracy: 0.9642\n",
      "Epoch 91/100\n",
      "130/130 [==============================] - 0s 2ms/step - loss: 0.1184 - accuracy: 0.9647\n",
      "Epoch 92/100\n",
      "130/130 [==============================] - 0s 2ms/step - loss: 0.1206 - accuracy: 0.9647\n",
      "Epoch 93/100\n",
      "130/130 [==============================] - 0s 2ms/step - loss: 0.1158 - accuracy: 0.9661\n",
      "Epoch 94/100\n",
      "130/130 [==============================] - 0s 2ms/step - loss: 0.1145 - accuracy: 0.9685\n",
      "Epoch 95/100\n",
      "130/130 [==============================] - 0s 2ms/step - loss: 0.1215 - accuracy: 0.9664\n",
      "Epoch 96/100\n",
      "130/130 [==============================] - 0s 3ms/step - loss: 0.1170 - accuracy: 0.9671\n",
      "Epoch 97/100\n",
      "130/130 [==============================] - 0s 2ms/step - loss: 0.1122 - accuracy: 0.9664\n",
      "Epoch 98/100\n",
      "130/130 [==============================] - 0s 2ms/step - loss: 0.1181 - accuracy: 0.9652\n",
      "Epoch 99/100\n",
      "130/130 [==============================] - 0s 3ms/step - loss: 0.1396 - accuracy: 0.9528\n",
      "Epoch 100/100\n",
      "130/130 [==============================] - 0s 3ms/step - loss: 0.1206 - accuracy: 0.9622\n"
     ]
    },
    {
     "data": {
      "text/plain": [
       "<keras.callbacks.History at 0x7fabbb7bdb50>"
      ]
     },
     "execution_count": 31,
     "metadata": {},
     "output_type": "execute_result"
    }
   ],
   "source": [
    "ann.fit(X_train, y_train, batch_size = 32, epochs = 100)"
   ]
  },
  {
   "cell_type": "markdown",
   "id": "0b57d920",
   "metadata": {
    "id": "0H0zKKNEBLD5",
    "papermill": {
     "duration": 0.333461,
     "end_time": "2022-03-16T11:04:57.255170",
     "exception": false,
     "start_time": "2022-03-16T11:04:56.921709",
     "status": "completed"
    },
    "tags": []
   },
   "source": [
    "### Predicting the results of the Test set"
   ]
  },
  {
   "cell_type": "code",
   "execution_count": 32,
   "id": "e29a4d9d",
   "metadata": {
    "execution": {
     "iopub.execute_input": "2022-03-16T11:04:57.930981Z",
     "iopub.status.busy": "2022-03-16T11:04:57.930170Z",
     "iopub.status.idle": "2022-03-16T11:04:58.079150Z",
     "shell.execute_reply": "2022-03-16T11:04:58.079892Z",
     "shell.execute_reply.started": "2022-03-16T10:04:51.255403Z"
    },
    "papermill": {
     "duration": 0.491012,
     "end_time": "2022-03-16T11:04:58.080066",
     "exception": false,
     "start_time": "2022-03-16T11:04:57.589054",
     "status": "completed"
    },
    "tags": []
   },
   "outputs": [],
   "source": [
    "y_pred = ann.predict(X_test)\n",
    "y_fin=[]\n",
    "for i in y_pred:\n",
    "    if i>=0.5:\n",
    "        y_fin.append(1)\n",
    "    else:\n",
    "        y_fin.append(0)"
   ]
  },
  {
   "cell_type": "markdown",
   "id": "ef2abc89",
   "metadata": {
    "papermill": {
     "duration": 0.336346,
     "end_time": "2022-03-16T11:04:58.751792",
     "exception": false,
     "start_time": "2022-03-16T11:04:58.415446",
     "status": "completed"
    },
    "tags": []
   },
   "source": [
    "### Model Results"
   ]
  },
  {
   "cell_type": "code",
   "execution_count": 33,
   "id": "7724605f",
   "metadata": {
    "execution": {
     "iopub.execute_input": "2022-03-16T11:04:59.427675Z",
     "iopub.status.busy": "2022-03-16T11:04:59.426876Z",
     "iopub.status.idle": "2022-03-16T11:04:59.436354Z",
     "shell.execute_reply": "2022-03-16T11:04:59.436752Z",
     "shell.execute_reply.started": "2022-03-16T10:04:51.411168Z"
    },
    "papermill": {
     "duration": 0.349452,
     "end_time": "2022-03-16T11:04:59.436916",
     "exception": false,
     "start_time": "2022-03-16T11:04:59.087464",
     "status": "completed"
    },
    "tags": []
   },
   "outputs": [
    {
     "name": "stdout",
     "output_type": "stream",
     "text": [
      "              precision    recall  f1-score   support\n",
      "\n",
      "           0       0.91      0.93      0.92       767\n",
      "           1       0.94      0.93      0.94      1004\n",
      "\n",
      "    accuracy                           0.93      1771\n",
      "   macro avg       0.93      0.93      0.93      1771\n",
      "weighted avg       0.93      0.93      0.93      1771\n",
      "\n"
     ]
    }
   ],
   "source": [
    "print(classification_report(np.array(y_fin),y_test))"
   ]
  },
  {
   "cell_type": "code",
   "execution_count": 34,
   "id": "f12ff520",
   "metadata": {
    "execution": {
     "iopub.execute_input": "2022-03-16T11:05:00.117740Z",
     "iopub.status.busy": "2022-03-16T11:05:00.116585Z",
     "iopub.status.idle": "2022-03-16T11:05:00.305636Z",
     "shell.execute_reply": "2022-03-16T11:05:00.306033Z",
     "shell.execute_reply.started": "2022-03-16T10:04:51.426461Z"
    },
    "papermill": {
     "duration": 0.532311,
     "end_time": "2022-03-16T11:05:00.306184",
     "exception": false,
     "start_time": "2022-03-16T11:04:59.773873",
     "status": "completed"
    },
    "tags": []
   },
   "outputs": [
    {
     "data": {
      "text/plain": [
       "<AxesSubplot:>"
      ]
     },
     "execution_count": 34,
     "metadata": {},
     "output_type": "execute_result"
    },
    {
     "data": {
      "image/png": "[encoded data removed]",
      "text/plain": [
       "<Figure size 288x216 with 2 Axes>"
      ]
     },
     "metadata": {
      "needs_background": "light"
     },
     "output_type": "display_data"
    }
   ],
   "source": [
    "plt.figure(figsize=(4,3))\n",
    "sns.heatmap(confusion_matrix(np.array(y_fin),y_test),annot=True,fmt=\"g\")"
   ]
  },
  {
   "cell_type": "markdown",
   "id": "f29cc5e4",
   "metadata": {
    "papermill": {
     "duration": 0.339636,
     "end_time": "2022-03-16T11:05:00.982701",
     "exception": false,
     "start_time": "2022-03-16T11:05:00.643065",
     "status": "completed"
    },
    "tags": []
   },
   "source": [
    "## Part 4- Machine Learning Models"
   ]
  },
  {
   "cell_type": "markdown",
   "id": "13ba60de",
   "metadata": {
    "papermill": {
     "duration": 0.352025,
     "end_time": "2022-03-16T11:05:01.675035",
     "exception": false,
     "start_time": "2022-03-16T11:05:01.323010",
     "status": "completed"
    },
    "tags": []
   },
   "source": [
    "### - Gaussian Naive Bayes"
   ]
  },
  {
   "cell_type": "markdown",
   "id": "ead9d59c",
   "metadata": {
    "papermill": {
     "duration": 0.435413,
     "end_time": "2022-03-16T11:05:02.633223",
     "exception": false,
     "start_time": "2022-03-16T11:05:02.197810",
     "status": "completed"
    },
    "tags": []
   },
   "source": [
    "#### Training Model and Generating Predictions"
   ]
  },
  {
   "cell_type": "code",
   "execution_count": 35,
   "id": "02b258fe",
   "metadata": {
    "execution": {
     "iopub.execute_input": "2022-03-16T11:05:03.337915Z",
     "iopub.status.busy": "2022-03-16T11:05:03.337057Z",
     "iopub.status.idle": "2022-03-16T11:05:15.091569Z",
     "shell.execute_reply": "2022-03-16T11:05:15.091080Z",
     "shell.execute_reply.started": "2022-03-16T10:04:51.618475Z"
    },
    "papermill": {
     "duration": 12.100766,
     "end_time": "2022-03-16T11:05:15.091707",
     "exception": false,
     "start_time": "2022-03-16T11:05:02.990941",
     "status": "completed"
    },
    "tags": []
   },
   "outputs": [],
   "source": [
    "import cupy\n",
    "model=GaussianNB()\n",
    "model.fit(cupy.array(X_train),cupy.array(y_train))\n",
    "p=model.predict(X_test)\n"
   ]
  },
  {
   "cell_type": "markdown",
   "id": "5912e6fe",
   "metadata": {
    "papermill": {
     "duration": 0.340927,
     "end_time": "2022-03-16T11:05:15.767105",
     "exception": false,
     "start_time": "2022-03-16T11:05:15.426178",
     "status": "completed"
    },
    "tags": []
   },
   "source": [
    "#### Evaluating Results"
   ]
  },
  {
   "cell_type": "code",
   "execution_count": 36,
   "id": "8c0df23e",
   "metadata": {
    "execution": {
     "iopub.execute_input": "2022-03-16T11:05:16.545922Z",
     "iopub.status.busy": "2022-03-16T11:05:16.545366Z",
     "iopub.status.idle": "2022-03-16T11:05:16.748482Z",
     "shell.execute_reply": "2022-03-16T11:05:16.749062Z",
     "shell.execute_reply.started": "2022-03-16T10:04:51.799388Z"
    },
    "papermill": {
     "duration": 0.615734,
     "end_time": "2022-03-16T11:05:16.749224",
     "exception": false,
     "start_time": "2022-03-16T11:05:16.133490",
     "status": "completed"
    },
    "scrolled": true,
    "tags": []
   },
   "outputs": [
    {
     "name": "stdout",
     "output_type": "stream",
     "text": [
      "              precision    recall  f1-score   support\n",
      "\n",
      "           0       0.83      0.92      0.87       706\n",
      "           1       0.94      0.87      0.90      1065\n",
      "\n",
      "    accuracy                           0.89      1771\n",
      "   macro avg       0.88      0.89      0.89      1771\n",
      "weighted avg       0.89      0.89      0.89      1771\n",
      "\n"
     ]
    },
    {
     "data": {
      "text/plain": [
       "<AxesSubplot:>"
      ]
     },
     "execution_count": 36,
     "metadata": {},
     "output_type": "execute_result"
    },
    {
     "data": {
      "image/png": "[encoded data removed]",
      "text/plain": [
       "<Figure size 288x216 with 2 Axes>"
      ]
     },
     "metadata": {
      "needs_background": "light"
     },
     "output_type": "display_data"
    }
   ],
   "source": [
    "plt.figure(figsize=(4,3))\n",
    "print(classification_report(p,y_test))\n",
    "sns.heatmap(confusion_matrix(p,y_test),annot=True,fmt=\"g\")"
   ]
  },
  {
   "cell_type": "markdown",
   "id": "a4213425",
   "metadata": {
    "papermill": {
     "duration": 0.338401,
     "end_time": "2022-03-16T11:05:17.427119",
     "exception": false,
     "start_time": "2022-03-16T11:05:17.088718",
     "status": "completed"
    },
    "tags": []
   },
   "source": [
    "### - K Nearest Neighbors"
   ]
  },
  {
   "cell_type": "markdown",
   "id": "27b498c2",
   "metadata": {
    "papermill": {
     "duration": 0.337896,
     "end_time": "2022-03-16T11:05:18.103272",
     "exception": false,
     "start_time": "2022-03-16T11:05:17.765376",
     "status": "completed"
    },
    "tags": []
   },
   "source": [
    "#### Training Model and Generating Predictions"
   ]
  },
  {
   "cell_type": "code",
   "execution_count": 37,
   "id": "6aa8efb9",
   "metadata": {
    "execution": {
     "iopub.execute_input": "2022-03-16T11:05:18.786595Z",
     "iopub.status.busy": "2022-03-16T11:05:18.785706Z",
     "iopub.status.idle": "2022-03-16T11:05:19.189431Z",
     "shell.execute_reply": "2022-03-16T11:05:19.188700Z",
     "shell.execute_reply.started": "2022-03-16T10:04:51.997457Z"
    },
    "papermill": {
     "duration": 0.747597,
     "end_time": "2022-03-16T11:05:19.189586",
     "exception": false,
     "start_time": "2022-03-16T11:05:18.441989",
     "status": "completed"
    },
    "tags": []
   },
   "outputs": [],
   "source": [
    "model=KNeighborsClassifier()\n",
    "model.fit(cupy.array(X_train),cupy.array(y_train))\n",
    "p=model.predict(X_test)\n"
   ]
  },
  {
   "cell_type": "markdown",
   "id": "19a0da38",
   "metadata": {
    "papermill": {
     "duration": 0.338087,
     "end_time": "2022-03-16T11:05:19.864073",
     "exception": false,
     "start_time": "2022-03-16T11:05:19.525986",
     "status": "completed"
    },
    "tags": []
   },
   "source": [
    "#### Evaluating Results"
   ]
  },
  {
   "cell_type": "code",
   "execution_count": 38,
   "id": "971cc169",
   "metadata": {
    "execution": {
     "iopub.execute_input": "2022-03-16T11:05:20.545702Z",
     "iopub.status.busy": "2022-03-16T11:05:20.544039Z",
     "iopub.status.idle": "2022-03-16T11:05:20.747318Z",
     "shell.execute_reply": "2022-03-16T11:05:20.746838Z",
     "shell.execute_reply.started": "2022-03-16T10:04:52.163965Z"
    },
    "papermill": {
     "duration": 0.546969,
     "end_time": "2022-03-16T11:05:20.747441",
     "exception": false,
     "start_time": "2022-03-16T11:05:20.200472",
     "status": "completed"
    },
    "tags": []
   },
   "outputs": [
    {
     "name": "stdout",
     "output_type": "stream",
     "text": [
      "              precision    recall  f1-score   support\n",
      "\n",
      "           0       0.81      0.96      0.88       662\n",
      "           1       0.97      0.87      0.92      1109\n",
      "\n",
      "    accuracy                           0.90      1771\n",
      "   macro avg       0.89      0.91      0.90      1771\n",
      "weighted avg       0.91      0.90      0.90      1771\n",
      "\n"
     ]
    },
    {
     "data": {
      "text/plain": [
       "<AxesSubplot:>"
      ]
     },
     "execution_count": 38,
     "metadata": {},
     "output_type": "execute_result"
    },
    {
     "data": {
      "image/png": "[encoded data removed]",
      "text/plain": [
       "<Figure size 288x216 with 2 Axes>"
      ]
     },
     "metadata": {
      "needs_background": "light"
     },
     "output_type": "display_data"
    }
   ],
   "source": [
    "plt.figure(figsize=(4,3))\n",
    "print(classification_report(p,y_test))\n",
    "sns.heatmap(confusion_matrix(p,y_test),annot=True,fmt=\"g\")"
   ]
  },
  {
   "cell_type": "markdown",
   "id": "5bb3047b",
   "metadata": {
    "papermill": {
     "duration": 0.339552,
     "end_time": "2022-03-16T11:05:21.427154",
     "exception": false,
     "start_time": "2022-03-16T11:05:21.087602",
     "status": "completed"
    },
    "tags": []
   },
   "source": [
    "### - Logistic Regression"
   ]
  },
  {
   "cell_type": "markdown",
   "id": "1c3c3b02",
   "metadata": {
    "papermill": {
     "duration": 0.344731,
     "end_time": "2022-03-16T11:05:22.113362",
     "exception": false,
     "start_time": "2022-03-16T11:05:21.768631",
     "status": "completed"
    },
    "tags": []
   },
   "source": [
    "#### Training model and Generating Predictions"
   ]
  },
  {
   "cell_type": "code",
   "execution_count": 39,
   "id": "728e320c",
   "metadata": {
    "execution": {
     "iopub.execute_input": "2022-03-16T11:05:22.801247Z",
     "iopub.status.busy": "2022-03-16T11:05:22.800427Z",
     "iopub.status.idle": "2022-03-16T11:05:24.697097Z",
     "shell.execute_reply": "2022-03-16T11:05:24.696594Z",
     "shell.execute_reply.started": "2022-03-16T10:04:52.38081Z"
    },
    "papermill": {
     "duration": 2.241757,
     "end_time": "2022-03-16T11:05:24.697239",
     "exception": false,
     "start_time": "2022-03-16T11:05:22.455482",
     "status": "completed"
    },
    "tags": []
   },
   "outputs": [],
   "source": [
    "model=LogisticRegression()\n",
    "model.fit(cupy.array(X_train),cupy.array(y_train))\n",
    "p=model.predict(X_test)\n"
   ]
  },
  {
   "cell_type": "markdown",
   "id": "af29d39c",
   "metadata": {
    "papermill": {
     "duration": 0.509709,
     "end_time": "2022-03-16T11:05:25.545945",
     "exception": false,
     "start_time": "2022-03-16T11:05:25.036236",
     "status": "completed"
    },
    "tags": []
   },
   "source": [
    "#### Evaluating Results"
   ]
  },
  {
   "cell_type": "code",
   "execution_count": 40,
   "id": "1e0cd9d9",
   "metadata": {
    "execution": {
     "iopub.execute_input": "2022-03-16T11:05:26.560188Z",
     "iopub.status.busy": "2022-03-16T11:05:26.559302Z",
     "iopub.status.idle": "2022-03-16T11:05:26.755347Z",
     "shell.execute_reply": "2022-03-16T11:05:26.754918Z",
     "shell.execute_reply.started": "2022-03-16T10:04:52.433761Z"
    },
    "papermill": {
     "duration": 0.55873,
     "end_time": "2022-03-16T11:05:26.755479",
     "exception": false,
     "start_time": "2022-03-16T11:05:26.196749",
     "status": "completed"
    },
    "tags": []
   },
   "outputs": [
    {
     "name": "stdout",
     "output_type": "stream",
     "text": [
      "              precision    recall  f1-score   support\n",
      "\n",
      "           0       0.89      0.90      0.90       775\n",
      "           1       0.92      0.92      0.92       996\n",
      "\n",
      "    accuracy                           0.91      1771\n",
      "   macro avg       0.91      0.91      0.91      1771\n",
      "weighted avg       0.91      0.91      0.91      1771\n",
      "\n"
     ]
    },
    {
     "data": {
      "text/plain": [
       "<AxesSubplot:>"
      ]
     },
     "execution_count": 40,
     "metadata": {},
     "output_type": "execute_result"
    },
    {
     "data": {
      "image/png": "[encoded data removed]",
      "text/plain": [
       "<Figure size 288x216 with 2 Axes>"
      ]
     },
     "metadata": {
      "needs_background": "light"
     },
     "output_type": "display_data"
    }
   ],
   "source": [
    "plt.figure(figsize=(4,3))\n",
    "print(classification_report(p,y_test))\n",
    "sns.heatmap(confusion_matrix(p,y_test),annot=True,fmt=\"g\")"
   ]
  },
  {
   "cell_type": "markdown",
   "id": "84459589",
   "metadata": {
    "papermill": {
     "duration": 0.339614,
     "end_time": "2022-03-16T11:05:27.436396",
     "exception": false,
     "start_time": "2022-03-16T11:05:27.096782",
     "status": "completed"
    },
    "tags": []
   },
   "source": [
    "### - Decision Tree Classifier"
   ]
  },
  {
   "cell_type": "markdown",
   "id": "5fba64ab",
   "metadata": {
    "papermill": {
     "duration": 0.343062,
     "end_time": "2022-03-16T11:05:28.127335",
     "exception": false,
     "start_time": "2022-03-16T11:05:27.784273",
     "status": "completed"
    },
    "tags": []
   },
   "source": [
    "#### Training model and Generating Predictions"
   ]
  },
  {
   "cell_type": "code",
   "execution_count": 41,
   "id": "be4f513d",
   "metadata": {
    "execution": {
     "iopub.execute_input": "2022-03-16T11:05:28.825545Z",
     "iopub.status.busy": "2022-03-16T11:05:28.824697Z",
     "iopub.status.idle": "2022-03-16T11:05:28.845577Z",
     "shell.execute_reply": "2022-03-16T11:05:28.845136Z",
     "shell.execute_reply.started": "2022-03-16T10:04:52.647692Z"
    },
    "papermill": {
     "duration": 0.377003,
     "end_time": "2022-03-16T11:05:28.845690",
     "exception": false,
     "start_time": "2022-03-16T11:05:28.468687",
     "status": "completed"
    },
    "tags": []
   },
   "outputs": [],
   "source": [
    "model=DecisionTreeClassifier()\n",
    "model.fit(X_train,y_train)\n",
    "p=model.predict(X_test)"
   ]
  },
  {
   "cell_type": "markdown",
   "id": "d5e85979",
   "metadata": {
    "papermill": {
     "duration": 0.342685,
     "end_time": "2022-03-16T11:05:29.531820",
     "exception": false,
     "start_time": "2022-03-16T11:05:29.189135",
     "status": "completed"
    },
    "tags": []
   },
   "source": [
    "#### Evaluating Results"
   ]
  },
  {
   "cell_type": "code",
   "execution_count": 42,
   "id": "6ccd4c61",
   "metadata": {
    "execution": {
     "iopub.execute_input": "2022-03-16T11:05:30.221692Z",
     "iopub.status.busy": "2022-03-16T11:05:30.220821Z",
     "iopub.status.idle": "2022-03-16T11:05:30.413117Z",
     "shell.execute_reply": "2022-03-16T11:05:30.412435Z",
     "shell.execute_reply.started": "2022-03-16T10:04:52.67517Z"
    },
    "papermill": {
     "duration": 0.537945,
     "end_time": "2022-03-16T11:05:30.413247",
     "exception": false,
     "start_time": "2022-03-16T11:05:29.875302",
     "status": "completed"
    },
    "tags": []
   },
   "outputs": [
    {
     "name": "stdout",
     "output_type": "stream",
     "text": [
      "              precision    recall  f1-score   support\n",
      "\n",
      "           0       0.91      0.94      0.92       762\n",
      "           1       0.95      0.93      0.94      1009\n",
      "\n",
      "    accuracy                           0.93      1771\n",
      "   macro avg       0.93      0.93      0.93      1771\n",
      "weighted avg       0.93      0.93      0.93      1771\n",
      "\n"
     ]
    },
    {
     "data": {
      "text/plain": [
       "<AxesSubplot:>"
      ]
     },
     "execution_count": 42,
     "metadata": {},
     "output_type": "execute_result"
    },
    {
     "data": {
      "image/png": "[encoded data removed]",
      "text/plain": [
       "<Figure size 288x216 with 2 Axes>"
      ]
     },
     "metadata": {
      "needs_background": "light"
     },
     "output_type": "display_data"
    }
   ],
   "source": [
    "plt.figure(figsize=(4,3))\n",
    "print(classification_report(p,y_test))\n",
    "sns.heatmap(confusion_matrix(p,y_test),annot=True,fmt=\"g\")"
   ]
  },
  {
   "cell_type": "markdown",
   "id": "52ade3f5",
   "metadata": {
    "papermill": {
     "duration": 0.353599,
     "end_time": "2022-03-16T11:05:31.108077",
     "exception": false,
     "start_time": "2022-03-16T11:05:30.754478",
     "status": "completed"
    },
    "tags": []
   },
   "source": [
    "### - Random Forest Classifier"
   ]
  },
  {
   "cell_type": "markdown",
   "id": "93586223",
   "metadata": {
    "papermill": {
     "duration": 0.341311,
     "end_time": "2022-03-16T11:05:31.789759",
     "exception": false,
     "start_time": "2022-03-16T11:05:31.448448",
     "status": "completed"
    },
    "tags": []
   },
   "source": [
    "#### Training model and Generating Predictions"
   ]
  },
  {
   "cell_type": "code",
   "execution_count": 43,
   "id": "5e9660d5",
   "metadata": {
    "execution": {
     "iopub.execute_input": "2022-03-16T11:05:32.482334Z",
     "iopub.status.busy": "2022-03-16T11:05:32.481663Z",
     "iopub.status.idle": "2022-03-16T11:05:33.135659Z",
     "shell.execute_reply": "2022-03-16T11:05:33.136138Z",
     "shell.execute_reply.started": "2022-03-16T10:04:52.870837Z"
    },
    "papermill": {
     "duration": 1.003924,
     "end_time": "2022-03-16T11:05:33.136328",
     "exception": false,
     "start_time": "2022-03-16T11:05:32.132404",
     "status": "completed"
    },
    "tags": []
   },
   "outputs": [
    {
     "name": "stderr",
     "output_type": "stream",
     "text": [
      "/opt/conda/lib/python3.7/site-packages/cuml/internals/api_decorators.py:794: UserWarning: For reproducible results in Random Forest Classifier or for almost reproducible results in Random Forest Regressor, n_streams==1 is recommended. If n_streams is > 1, results may vary due to stream/thread timing differences, even when random_state is set\n",
      "  return func(**kwargs)\n"
     ]
    }
   ],
   "source": [
    "import cupy\n",
    "model=RandomForestClassifier(max_features=1.0,\n",
    "                   n_bins=10,\n",
    "                   n_estimators=100,max_depth=6,random_state=100,min_samples_leaf=8)\n",
    "model.fit(cupy.array(X_train),cupy.array(y_train))\n",
    "p=model.predict(X_test)"
   ]
  },
  {
   "cell_type": "markdown",
   "id": "969f0c57",
   "metadata": {
    "papermill": {
     "duration": 0.354292,
     "end_time": "2022-03-16T11:05:33.840255",
     "exception": false,
     "start_time": "2022-03-16T11:05:33.485963",
     "status": "completed"
    },
    "tags": []
   },
   "source": [
    "#### Evaluating Results"
   ]
  },
  {
   "cell_type": "code",
   "execution_count": 44,
   "id": "4b054b93",
   "metadata": {
    "execution": {
     "iopub.execute_input": "2022-03-16T11:05:34.528361Z",
     "iopub.status.busy": "2022-03-16T11:05:34.524713Z",
     "iopub.status.idle": "2022-03-16T11:05:34.730561Z",
     "shell.execute_reply": "2022-03-16T11:05:34.731238Z",
     "shell.execute_reply.started": "2022-03-16T10:04:53.022839Z"
    },
    "papermill": {
     "duration": 0.549003,
     "end_time": "2022-03-16T11:05:34.731393",
     "exception": false,
     "start_time": "2022-03-16T11:05:34.182390",
     "status": "completed"
    },
    "tags": []
   },
   "outputs": [
    {
     "name": "stdout",
     "output_type": "stream",
     "text": [
      "              precision    recall  f1-score   support\n",
      "\n",
      "         0.0       0.90      0.95      0.92       747\n",
      "         1.0       0.96      0.93      0.94      1024\n",
      "\n",
      "    accuracy                           0.93      1771\n",
      "   macro avg       0.93      0.94      0.93      1771\n",
      "weighted avg       0.94      0.93      0.93      1771\n",
      "\n"
     ]
    },
    {
     "data": {
      "text/plain": [
       "<AxesSubplot:>"
      ]
     },
     "execution_count": 44,
     "metadata": {},
     "output_type": "execute_result"
    },
    {
     "data": {
      "image/png": "[encoded data removed]",
      "text/plain": [
       "<Figure size 288x216 with 2 Axes>"
      ]
     },
     "metadata": {
      "needs_background": "light"
     },
     "output_type": "display_data"
    }
   ],
   "source": [
    "plt.figure(figsize=(4,3))\n",
    "print(classification_report(p,y_test))\n",
    "sns.heatmap(confusion_matrix(p,y_test),annot=True,fmt=\"g\")"
   ]
  },
  {
   "cell_type": "markdown",
   "id": "caab5a94",
   "metadata": {
    "papermill": {
     "duration": 0.413651,
     "end_time": "2022-03-16T11:05:35.661661",
     "exception": false,
     "start_time": "2022-03-16T11:05:35.248010",
     "status": "completed"
    },
    "tags": []
   },
   "source": [
    "### - Ada Boosting Classifier"
   ]
  },
  {
   "cell_type": "markdown",
   "id": "b984aa5c",
   "metadata": {
    "papermill": {
     "duration": 0.345089,
     "end_time": "2022-03-16T11:05:36.353561",
     "exception": false,
     "start_time": "2022-03-16T11:05:36.008472",
     "status": "completed"
    },
    "tags": []
   },
   "source": [
    "#### Training model and Generating Predictions"
   ]
  },
  {
   "cell_type": "code",
   "execution_count": 45,
   "id": "b218d492",
   "metadata": {
    "execution": {
     "iopub.execute_input": "2022-03-16T11:05:37.045266Z",
     "iopub.status.busy": "2022-03-16T11:05:37.043974Z",
     "iopub.status.idle": "2022-03-16T11:05:37.316744Z",
     "shell.execute_reply": "2022-03-16T11:05:37.316246Z",
     "shell.execute_reply.started": "2022-03-16T10:04:53.234412Z"
    },
    "papermill": {
     "duration": 0.621636,
     "end_time": "2022-03-16T11:05:37.316895",
     "exception": false,
     "start_time": "2022-03-16T11:05:36.695259",
     "status": "completed"
    },
    "tags": []
   },
   "outputs": [],
   "source": [
    "model=AdaBoostClassifier()\n",
    "model.fit(X_train,y_train)\n",
    "p=model.predict(X_test)"
   ]
  },
  {
   "cell_type": "markdown",
   "id": "9412c404",
   "metadata": {
    "papermill": {
     "duration": 0.343852,
     "end_time": "2022-03-16T11:05:38.012735",
     "exception": false,
     "start_time": "2022-03-16T11:05:37.668883",
     "status": "completed"
    },
    "tags": []
   },
   "source": [
    "#### Evaluating Results"
   ]
  },
  {
   "cell_type": "code",
   "execution_count": 46,
   "id": "d45d5acb",
   "metadata": {
    "execution": {
     "iopub.execute_input": "2022-03-16T11:05:38.701262Z",
     "iopub.status.busy": "2022-03-16T11:05:38.700419Z",
     "iopub.status.idle": "2022-03-16T11:05:38.900682Z",
     "shell.execute_reply": "2022-03-16T11:05:38.900193Z",
     "shell.execute_reply.started": "2022-03-16T10:04:53.491778Z"
    },
    "papermill": {
     "duration": 0.547182,
     "end_time": "2022-03-16T11:05:38.900840",
     "exception": false,
     "start_time": "2022-03-16T11:05:38.353658",
     "status": "completed"
    },
    "tags": []
   },
   "outputs": [
    {
     "name": "stdout",
     "output_type": "stream",
     "text": [
      "              precision    recall  f1-score   support\n",
      "\n",
      "           0       0.93      0.95      0.94       761\n",
      "           1       0.96      0.94      0.95      1010\n",
      "\n",
      "    accuracy                           0.95      1771\n",
      "   macro avg       0.95      0.95      0.95      1771\n",
      "weighted avg       0.95      0.95      0.95      1771\n",
      "\n"
     ]
    },
    {
     "data": {
      "text/plain": [
       "<AxesSubplot:>"
      ]
     },
     "execution_count": 46,
     "metadata": {},
     "output_type": "execute_result"
    },
    {
     "data": {
      "image/png": "[encoded data removed]",
      "text/plain": [
       "<Figure size 288x216 with 2 Axes>"
      ]
     },
     "metadata": {
      "needs_background": "light"
     },
     "output_type": "display_data"
    }
   ],
   "source": [
    "plt.figure(figsize=(4,3))\n",
    "print(classification_report(p,y_test))\n",
    "sns.heatmap(confusion_matrix(p,y_test),annot=True,fmt=\"g\")"
   ]
  },
  {
   "cell_type": "markdown",
   "id": "94ab165f",
   "metadata": {
    "papermill": {
     "duration": 0.34229,
     "end_time": "2022-03-16T11:05:39.590373",
     "exception": false,
     "start_time": "2022-03-16T11:05:39.248083",
     "status": "completed"
    },
    "tags": []
   },
   "source": [
    "### - Gradient Boosting Classifier"
   ]
  },
  {
   "cell_type": "markdown",
   "id": "9a9a06c3",
   "metadata": {
    "papermill": {
     "duration": 0.345124,
     "end_time": "2022-03-16T11:05:40.278743",
     "exception": false,
     "start_time": "2022-03-16T11:05:39.933619",
     "status": "completed"
    },
    "tags": []
   },
   "source": [
    "#### Training model and Generating Predictions"
   ]
  },
  {
   "cell_type": "code",
   "execution_count": 47,
   "id": "0a789290",
   "metadata": {
    "execution": {
     "iopub.execute_input": "2022-03-16T11:05:40.973150Z",
     "iopub.status.busy": "2022-03-16T11:05:40.971813Z",
     "iopub.status.idle": "2022-03-16T11:05:41.717077Z",
     "shell.execute_reply": "2022-03-16T11:05:41.716559Z",
     "shell.execute_reply.started": "2022-03-16T10:04:53.687812Z"
    },
    "papermill": {
     "duration": 1.094856,
     "end_time": "2022-03-16T11:05:41.717207",
     "exception": false,
     "start_time": "2022-03-16T11:05:40.622351",
     "status": "completed"
    },
    "tags": []
   },
   "outputs": [],
   "source": [
    "model=GradientBoostingClassifier()\n",
    "model.fit(X_train,y_train)\n",
    "p=model.predict(X_test)"
   ]
  },
  {
   "cell_type": "markdown",
   "id": "c861e300",
   "metadata": {
    "papermill": {
     "duration": 0.344303,
     "end_time": "2022-03-16T11:05:42.407214",
     "exception": false,
     "start_time": "2022-03-16T11:05:42.062911",
     "status": "completed"
    },
    "tags": []
   },
   "source": [
    "#### Evaluating Results\n"
   ]
  },
  {
   "cell_type": "code",
   "execution_count": 48,
   "id": "7786f258",
   "metadata": {
    "execution": {
     "iopub.execute_input": "2022-03-16T11:05:43.114742Z",
     "iopub.status.busy": "2022-03-16T11:05:43.113932Z",
     "iopub.status.idle": "2022-03-16T11:05:43.310068Z",
     "shell.execute_reply": "2022-03-16T11:05:43.309499Z",
     "shell.execute_reply.started": "2022-03-16T10:04:54.417672Z"
    },
    "papermill": {
     "duration": 0.559807,
     "end_time": "2022-03-16T11:05:43.310198",
     "exception": false,
     "start_time": "2022-03-16T11:05:42.750391",
     "status": "completed"
    },
    "tags": []
   },
   "outputs": [
    {
     "name": "stdout",
     "output_type": "stream",
     "text": [
      "              precision    recall  f1-score   support\n",
      "\n",
      "           0       0.95      0.95      0.95       778\n",
      "           1       0.96      0.96      0.96       993\n",
      "\n",
      "    accuracy                           0.96      1771\n",
      "   macro avg       0.95      0.96      0.95      1771\n",
      "weighted avg       0.96      0.96      0.96      1771\n",
      "\n"
     ]
    },
    {
     "data": {
      "text/plain": [
       "<AxesSubplot:>"
      ]
     },
     "execution_count": 48,
     "metadata": {},
     "output_type": "execute_result"
    },
    {
     "data": {
      "image/png": "[encoded data removed]",
      "text/plain": [
       "<Figure size 288x216 with 2 Axes>"
      ]
     },
     "metadata": {
      "needs_background": "light"
     },
     "output_type": "display_data"
    }
   ],
   "source": [
    "plt.figure(figsize=(4,3))\n",
    "print(classification_report(p,y_test))\n",
    "sns.heatmap(confusion_matrix(p,y_test),annot=True,fmt=\"g\")"
   ]
  },
  {
   "cell_type": "markdown",
   "id": "39988585",
   "metadata": {
    "papermill": {
     "duration": 0.354987,
     "end_time": "2022-03-16T11:05:44.009769",
     "exception": false,
     "start_time": "2022-03-16T11:05:43.654782",
     "status": "completed"
    },
    "tags": []
   },
   "source": [
    "### - XGB Classifier"
   ]
  },
  {
   "cell_type": "markdown",
   "id": "e254afe3",
   "metadata": {
    "papermill": {
     "duration": 0.347875,
     "end_time": "2022-03-16T11:05:44.725630",
     "exception": false,
     "start_time": "2022-03-16T11:05:44.377755",
     "status": "completed"
    },
    "tags": []
   },
   "source": [
    "#### Training model and Generating Predictions"
   ]
  },
  {
   "cell_type": "code",
   "execution_count": 49,
   "id": "309285ac",
   "metadata": {
    "execution": {
     "iopub.execute_input": "2022-03-16T11:05:45.422001Z",
     "iopub.status.busy": "2022-03-16T11:05:45.421167Z",
     "iopub.status.idle": "2022-03-16T11:05:46.640802Z",
     "shell.execute_reply": "2022-03-16T11:05:46.641804Z",
     "shell.execute_reply.started": "2022-03-16T10:04:54.613715Z"
    },
    "papermill": {
     "duration": 1.568635,
     "end_time": "2022-03-16T11:05:46.642044",
     "exception": false,
     "start_time": "2022-03-16T11:05:45.073409",
     "status": "completed"
    },
    "tags": []
   },
   "outputs": [],
   "source": [
    "model=XGBClassifier(use_label_encoder=False,verbosity=0)\n",
    "model.fit(X_train,y_train)\n",
    "p=model.predict(X_test)"
   ]
  },
  {
   "cell_type": "markdown",
   "id": "9793a98c",
   "metadata": {
    "papermill": {
     "duration": 0.382258,
     "end_time": "2022-03-16T11:05:47.417477",
     "exception": false,
     "start_time": "2022-03-16T11:05:47.035219",
     "status": "completed"
    },
    "tags": []
   },
   "source": [
    "#### Evaluating Results\n"
   ]
  },
  {
   "cell_type": "code",
   "execution_count": 50,
   "id": "2b0fdd02",
   "metadata": {
    "execution": {
     "iopub.execute_input": "2022-03-16T11:05:48.216739Z",
     "iopub.status.busy": "2022-03-16T11:05:48.215900Z",
     "iopub.status.idle": "2022-03-16T11:05:48.439067Z",
     "shell.execute_reply": "2022-03-16T11:05:48.439481Z",
     "shell.execute_reply.started": "2022-03-16T10:04:55.376066Z"
    },
    "papermill": {
     "duration": 0.633285,
     "end_time": "2022-03-16T11:05:48.439639",
     "exception": false,
     "start_time": "2022-03-16T11:05:47.806354",
     "status": "completed"
    },
    "tags": []
   },
   "outputs": [
    {
     "name": "stdout",
     "output_type": "stream",
     "text": [
      "              precision    recall  f1-score   support\n",
      "\n",
      "           0       0.95      0.96      0.96       773\n",
      "           1       0.97      0.96      0.97       998\n",
      "\n",
      "    accuracy                           0.96      1771\n",
      "   macro avg       0.96      0.96      0.96      1771\n",
      "weighted avg       0.96      0.96      0.96      1771\n",
      "\n"
     ]
    },
    {
     "data": {
      "text/plain": [
       "<AxesSubplot:>"
      ]
     },
     "execution_count": 50,
     "metadata": {},
     "output_type": "execute_result"
    },
    {
     "data": {
      "image/png": "[encoded data removed]",
      "text/plain": [
       "<Figure size 288x216 with 2 Axes>"
      ]
     },
     "metadata": {
      "needs_background": "light"
     },
     "output_type": "display_data"
    }
   ],
   "source": [
    "plt.figure(figsize=(4,3))\n",
    "print(classification_report(p,y_test))\n",
    "sns.heatmap(confusion_matrix(p,y_test),annot=True,fmt=\"g\")"
   ]
  },
  {
   "cell_type": "markdown",
   "id": "653bae42",
   "metadata": {
    "papermill": {
     "duration": 0.347678,
     "end_time": "2022-03-16T11:05:49.187617",
     "exception": false,
     "start_time": "2022-03-16T11:05:48.839939",
     "status": "completed"
    },
    "tags": []
   },
   "source": []
  },
  {
   "cell_type": "code",
   "execution_count": null,
   "id": "f105321a",
   "metadata": {
    "papermill": {
     "duration": 0.389367,
     "end_time": "2022-03-16T11:05:49.922473",
     "exception": false,
     "start_time": "2022-03-16T11:05:49.533106",
     "status": "completed"
    },
    "tags": []
   },
   "outputs": [],
   "source": []
  }
 ],
 "metadata": {
  "kernelspec": {
   "display_name": "Python 3",
   "language": "python",
   "name": "python3"
  },
  "language_info": {
   "codemirror_mode": {
    "name": "ipython",
    "version": 3
   },
   "file_extension": ".py",
   "mimetype": "text/x-python",
   "name": "python",
   "nbconvert_exporter": "python",
   "pygments_lexer": "ipython3",
   "version": "3.7.12"
  },
  "papermill": {
   "default_parameters": {},
   "duration": 140.09498,
   "end_time": "2022-03-16T11:05:54.082550",
   "environment_variables": {},
   "exception": null,
   "input_path": "__notebook__.ipynb",
   "output_path": "__notebook__.ipynb",
   "parameters": {},
   "start_time": "2022-03-16T11:03:33.987570",
   "version": "2.3.3"
  }
 },
 "nbformat": 4,
 "nbformat_minor": 5
}
